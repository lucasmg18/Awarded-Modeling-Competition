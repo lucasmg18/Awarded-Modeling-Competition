{
  "cells": [
    {
      "cell_type": "markdown",
      "metadata": {
        "id": "Jh-vDfmHMytW"
      },
      "source": [
        "Librerías necesarias para el proyecto:"
      ]
    },
    {
      "cell_type": "code",
      "execution_count": null,
      "metadata": {
        "id": "dWdFcdhakDXf"
      },
      "outputs": [],
      "source": [
        "import numpy as np\n",
        "import pandas as pd\n",
        "import matplotlib.pyplot as plt\n",
        "import os\n",
        "from sklearn.preprocessing import OneHotEncoder\n",
        "import seaborn as sns\n",
        "import matplotlib.pyplot as plt\n",
        "\n",
        "\n",
        "import tensorflow as tf\n",
        "from tensorflow.keras.models import Sequential\n",
        "from tensorflow.keras.layers import Dense, Flatten, Conv2D,MaxPooling2D,Dropout, Input, Concatenate, Lambda, GlobalAveragePooling2D\n",
        "from tensorflow.keras.utils  import to_categorical\n",
        "from tensorflow.keras.models import Model\n",
        "from tensorflow.keras.applications import  VGG16\n",
        "\n",
        "from keras.callbacks import EarlyStopping\n",
        "\n",
        "import sklearn\n",
        "from   sklearn.model_selection import train_test_split\n"
      ]
    },
    {
      "cell_type": "markdown",
      "source": [
        "Vamos a establecer la semilla de la biblioteca numpy para que las pariciones y ejecuciones tengan el mismo resultado siempre que se ejecuten."
      ],
      "metadata": {
        "id": "FhodxE5ZR5aq"
      }
    },
    {
      "cell_type": "code",
      "execution_count": null,
      "metadata": {
        "id": "2MUPML5x4W-w"
      },
      "outputs": [],
      "source": [
        "np.random.seed(0)"
      ]
    },
    {
      "cell_type": "markdown",
      "metadata": {
        "id": "Lf18B3xXM4t5"
      },
      "source": [
        "Acceder al drive con el dataset:"
      ]
    },
    {
      "cell_type": "code",
      "execution_count": null,
      "metadata": {
        "colab": {
          "base_uri": "https://localhost:8080/"
        },
        "id": "WW4AUpWO-oKC",
        "outputId": "a8485cc8-833f-4055-aa48-897bf78928b8"
      },
      "outputs": [
        {
          "output_type": "stream",
          "name": "stdout",
          "text": [
            "Mounted at /content/drive\n"
          ]
        }
      ],
      "source": [
        "#Para acceder a nuestros ficheros de Google Drive\n",
        "from google.colab import drive\n",
        "drive.mount('/content/drive')\n",
        "# La carpeta datos (que contiene X_train.npy, y_train.npy, X_test.npy y y_test.npy)\n",
        "# debe estar en vuestro Drive, dentro de la carpeta 'Colab Notebooks'"
      ]
    },
    {
      "cell_type": "markdown",
      "metadata": {
        "id": "Izkei3lCBm5T"
      },
      "source": [
        "Vamos a mapear cada clase para etiquetar las clases con valores numéricos además de la etiqeuea original que se trataba del nombre en formato string."
      ]
    },
    {
      "cell_type": "code",
      "execution_count": null,
      "metadata": {
        "id": "QwCvdodoBeSP"
      },
      "outputs": [],
      "source": [
        "map_labels = {\n",
        "    'Apple Braeburn':0,\n",
        "  'Apple Granny Smith':1,\n",
        "  'Apricot':2,\n",
        "  'Avocado':3,\n",
        "  'Banana':4,\n",
        "  'Blueberry':5,\n",
        "  'Cactus fruit':6,\n",
        "  'Cantaloupe':7,\n",
        "  'Cherry':8,\n",
        "  'Clementine':9,\n",
        "  'Corn':10,\n",
        "  'Cucumber Ripe':11,\n",
        "  'Grape Blue':12,\n",
        "  'Kiwi':13,\n",
        "  'Lemon':14,\n",
        "  'Limes':15,\n",
        "  'Mango':16,\n",
        "  'Onion White':17,\n",
        "  'Orange':18,\n",
        "  'Papaya':19,\n",
        "  'Passion Fruit':20,\n",
        "  'Peach':21,\n",
        "  'Pear':22,\n",
        "  'Pepper Green':23,\n",
        "  'Pepper Red':24,\n",
        "  'Pineapple':25,\n",
        "  'Plum':26,\n",
        "  'Pomegranate':27,\n",
        "  'Potato Red':28,\n",
        "  'Raspberry':29,\n",
        "  'Strawberry':30,\n",
        "  'Tomato':31,\n",
        "  'Watermelon':32\n",
        "}"
      ]
    },
    {
      "cell_type": "markdown",
      "metadata": {
        "id": "36vakboXM9g2"
      },
      "source": [
        "Para poder cargar los datos en el colab hace falta que se añadan el conjunto de datos al drive personal en la carpeta `drive/MyDrive/Colab Notebooks/datos/` o cambiar el valor de `file_pat`h a la dirección donde se ha cargado el arhcivo con los datos `total_data.npz`."
      ]
    },
    {
      "cell_type": "code",
      "execution_count": null,
      "metadata": {
        "colab": {
          "base_uri": "https://localhost:8080/"
        },
        "id": "XlFg2waKWdHo",
        "outputId": "3be84a14-a066-4de6-f42e-05078147a801"
      },
      "outputs": [
        {
          "output_type": "stream",
          "name": "stdout",
          "text": [
            "Forma de vector trainX de muestras: (10112, 100, 100, 3)\n",
            "Forma de vector trainY de etiquetas: (10112,)\n",
            "Forma de vector testX de muestras: (6742, 100, 100, 3)\n",
            "Forma de vector testY de etiquetas: (6742,)\n"
          ]
        }
      ],
      "source": [
        "#Primera parte de los datos (parte de entrenamiento)\n",
        "file_path = 'drive/MyDrive/Colab Notebooks/datos/total_data.npz'\n",
        "\n",
        "loaded_data = np.load(file_path)\n",
        "trainX = loaded_data['trainX'] # cargar el array con los valores de cada imagen de train\n",
        "trainY_names = loaded_data['trainY'] # cargar el array con los valores de las etiquetas de train\n",
        "testX = loaded_data['testX'] # cargar el array con los valores de cada imagen de test\n",
        "testY_names = loaded_data['testY'] # cargar el array con los valores de las etiquetas de test\n",
        "\n",
        "\n",
        "trainY = [map_labels[label] for label in trainY_names]\n",
        "testY = [map_labels[label] for label in testY_names]\n",
        "\n",
        "\n",
        "# Trasnformar en arrays de numpy para mayor eficiencia\n",
        "trainX = np.array(trainX)\n",
        "trainY = np.array(trainY)\n",
        "testX = np.array(testX)\n",
        "testY = np.array(testY)\n",
        "#print(trainX[0])\n",
        "#print(trainY[0])\n",
        "# Mostrar dimension del conjunto de muestras total\n",
        "print(\"Forma de vector trainX de muestras:\", trainX.shape)\n",
        "print(\"Forma de vector trainY de etiquetas:\", trainY.shape)\n",
        "print(\"Forma de vector testX de muestras:\", testX.shape)\n",
        "print(\"Forma de vector testY de etiquetas:\", testY.shape)"
      ]
    },
    {
      "cell_type": "markdown",
      "metadata": {
        "id": "Mw1HbC6zrc9P"
      },
      "source": [
        "Cada caso representa una imagen de una fruta y posee 100x100 píxeles a color, y por lo tanto los datos de cada caso consisten en una matriz con tres dimensiones de la forma (100,100,3) ya que cada píxel se compone de 3 valores enteros entre 0 y 255 que representan los tres colores Rojo Verde y Azul (RGB)."
      ]
    },
    {
      "cell_type": "markdown",
      "metadata": {
        "id": "hhS0eTTHw0wh"
      },
      "source": [
        "Inicialmente en la página web donde se obtienen los datos solo disponemos de los datos de train con sus etiquetas, los datos de test que hay en la página web no tienen etiquetas y por tanto no podemos usarlos para entrenar ni comprobar como test."
      ]
    },
    {
      "cell_type": "markdown",
      "metadata": {
        "id": "JCF_UXtWxmVo"
      },
      "source": [
        "De forma local , al extraer los vectores de píxeles de las imágenes, hemos obtenido el conjunto total de muestras.\n",
        "\n",
        "Después de obtener el conjunto total de datos hemos separado los datos en un conjunto de entrenamiento y otro de test. Realizamos esto lo primero para evitar observar los datos de test y realizar \"Data Snooping\" donde el conjunto de datos podría influenciar nuestra elección sobre el modelo a utilizar para resolver el problema de aprendizaje automático. Para separar las muestras en train y test, el rango de distribuciones comunes en la práctica es entre 60% train - 40% test y 90% train - 10% test. Al utilizar una distribución con mayor porcentaje para test obtendríamos una estimación mejor del error  $E_{out}$  a partir del error  $E{test}$  que con una distribución con menor porcentaje para test, ya que se utilizaría un número mayor de muestras para obtener la estimación. Sin embargo, al utilizar una distribución con mayor porcentaje para train obtendríamos un mejor ajuste del problema al entrenar el modelo de aprendizaje con más datos que con una distribución con menor porcentaje para train, teniendo una mejor generalización en el conjunto de entrenamiento de la función que tratamos de aproximar. En general cuantos más datos se utilicen en test mejor será la estimación del error $E_{out}$  y cuantos más datos se utilicen en el entrenamiento, el clasificador calculado se ajustará mejor al problema, ya que tiene más datos con los que aprender.  \n",
        "En este problema además del objetivo de clasificar también se pretende generar muestras nuevas a partir de un número muy reducido de muestras y comparar el rendimiento del modelo de clasificación con ambos conjuntos de datos, el original y el creado. Es por eso que la estimación del error $E_{out}$ es importante en este problema y por lo tanto hemos elegido una distribución de 60% para entrenamiento y 40% de test, teniendo en cuenta que con esta distribución se tiene un número menor de datos para entrenar, pero se tiene un número mayor de datos para  estimar el error  Eout  y obtener una estimación del rendimiento del modelo con cada conjunto de datos más robusta.\n"
      ]
    },
    {
      "cell_type": "markdown",
      "metadata": {
        "id": "t3wZjLM5Tysm"
      },
      "source": [
        "# Preprocesado de los Datos"
      ]
    },
    {
      "cell_type": "markdown",
      "metadata": {
        "id": "FbEtaUL9XWJ-"
      },
      "source": [
        "Vamos a modificar el vector de etiquetas ya que inicialmente cada etiqueta se ha representado como un número\n",
        "$y_i \\in \\{0, 1, ..., 33\\}$, a partir del mapeado de los nombres de las clases, y por tanto vamos a transformar estas etiquetas al espacio de salida $\\mathcal Y$ donde cada etiqueta $y_i \\in \\mathcal Y$ identifica una clase de nuestro problema $C_{i}$ y es representado por un vector de 33 valores binarios donde todos los valores del vector toman el valor 0 excepto el valor en la posición $i$ que toma el valor 1 representando que la etiqueta es la clase $ i \\in \\{0,1,2,3...33\\}$.\n",
        "\n",
        "Para ello aplicamos One-Hot encoding a las etiquetas empleando la clase OneHotEncoder utilizando los siguiente parámetros para crear el objeto codificado:\n",
        "*   categories: se especifica la lista categ que contiene las categorías de cada variable.\n",
        "*   sparse_output=False: se establece en False para obtener una matriz densa en lugar de una matriz dispersa, para obtener una matriz con las columnas de cada nueva variable unificadas para añadirlas directamente al conjunto de datos.\n",
        "*   drop=None: se establece en None para mantener todas las categorías en cada variable.\n",
        "Después se utiliza el método fit_transform del objeto codificador para realizar la codificación One-Hot de las variables categóricas elegidas.\n"
      ]
    },
    {
      "cell_type": "markdown",
      "metadata": {
        "id": "XiIdfqT2FCrq"
      },
      "source": [
        "La técnica One-Hot encoding se utiliza para evitar que los algoritmos de aprendizaje automático aprendan relaciones entre el orden númerico que existe entre los números consecutivos o rangos que se utilizan para los atributos de los datos. Por eso se utiliza un vector de valores binarios para evitar que las clases puedan inferir relaciones erroneas y confundan al algoritmo a la hora de entrenar con los datos."
      ]
    },
    {
      "cell_type": "code",
      "execution_count": null,
      "metadata": {
        "colab": {
          "base_uri": "https://localhost:8080/"
        },
        "id": "46kvuhLWRHTp",
        "outputId": "98c29a55-bdb7-4130-87b5-021075acbba3"
      },
      "outputs": [
        {
          "output_type": "stream",
          "name": "stdout",
          "text": [
            "Forma de vector Y del conjunto total de etiquetas: (10112, 33)\n",
            "Forma de vector Y del conjunto total de etiquetas: (6742, 33)\n"
          ]
        }
      ],
      "source": [
        "# Etiquetas numéricas\n",
        "categorias =  [np.arange(len(map_labels))]\n",
        "\n",
        "# Reshape del vector de etiquetas a una matriz columna para aplicar el codificador al vector\n",
        "trainY_reshaped = trainY.reshape(-1, 1)\n",
        "testY_reshaped = testY.reshape(-1, 1)\n",
        "\n",
        "#Funcion para codificar\n",
        "encoder = OneHotEncoder(\n",
        "     categories=categorias,  # Categorías de cada variable\n",
        "     sparse_output=False,  # crea una matriz sparse cuando se pone TRUE\n",
        "     drop  = None  #  No quitar categorías en cada variable\n",
        "     )\n",
        "\n",
        "trainY_encoded = encoder.fit_transform(trainY_reshaped) # Aplicar One Hot Encoding al conjunto entrenamiento\n",
        "testY_encoded = encoder.fit_transform(testY_reshaped) # Aplicar One Hot Encoding al conjunto entrenamiento\n",
        "print(\"Forma de vector Y del conjunto total de etiquetas:\",trainY_encoded.shape)\n",
        "print(\"Forma de vector Y del conjunto total de etiquetas:\",testY_encoded.shape)"
      ]
    },
    {
      "cell_type": "markdown",
      "metadata": {
        "id": "NxgUuLpT2VTv"
      },
      "source": [
        "#### Desequilibrio de clases\n",
        "\n",
        "Una parte importante a tener en cuenta sobre nuestro conjunto de datos es el desequilibrio de las clases presentes en nuestro dataset, esto es el nivel de representación de cada caracter de nuestro conjunto de training. Cuando hay un desbalanceo de una o más clases, ocurre una dominancia de una clase sobre otra, esto quiere decir, que nuestros modelos pueden aprender mucha información sobre un conjunto de clases que está muy representada en los datos y aprender muy poca información de otros más infrarepresentados. Nos interesa que todas las clases estén bien representadas para poder tener un modelo final de clasificación lo más potente y capáz posible en el dominio del problema y así poder tener una capacidad de clasificación sobre todas las clases posibles.\n",
        "\n",
        "Hay que tener en cuenta que cuando particionamos el conjunto de datos en datos de training y test, puede haber cierto desbalanceo que depende de la partición concreta que hemos realizado, esto lo hemos abordado realizando una separación de los datos con previa aleatorización del conjunto entero, de manera que la distribución sea lo más independiente posible de la partición que hemos hecho.\n",
        "\n",
        "Si visualizamos el conteo de todas las etiquetas $y$ para todos los ejemplos del conjunto de training podemos comprobar la distribución de las clases y tener una mejor percepción de este problema."
      ]
    },
    {
      "cell_type": "code",
      "execution_count": null,
      "metadata": {
        "colab": {
          "base_uri": "https://localhost:8080/",
          "height": 564
        },
        "id": "1vj_usVJ6SIQ",
        "outputId": "850df8b9-b9c6-40a3-a98d-c0bcaf61798a"
      },
      "outputs": [
        {
          "output_type": "display_data",
          "data": {
            "text/plain": [
              "<Figure size 1200x600 with 1 Axes>"
            ],
            "image/png": "[encoded data removed]"
          },
          "metadata": {}
        }
      ],
      "source": [
        "plt.figure(figsize=(12, 6))\n",
        "sns.countplot(x=trainY)\n",
        "\n",
        "plt.title('Distribución de clases en Train')\n",
        "plt.xlabel(f'Labels (y)')\n",
        "plt.show()"
      ]
    },
    {
      "cell_type": "markdown",
      "metadata": {
        "id": "UB2puahU8rwZ"
      },
      "source": [
        "Como podemos observar, existen algunas clases que tienen una cantidad mayor de muestras que el resto, pero en general la distribución es uniforme y por lo tanto no va a existir problemas durante el entrenamiento del modelo ya que al no existir clases sobrerepresentadas ni infrarepresentadas el modelo no va a favorecer ni desfavorecer a ninguna de las clases."
      ]
    },
    {
      "cell_type": "markdown",
      "metadata": {
        "id": "uvahk1gdxRI7"
      },
      "source": [
        "Como las variables consisten en píxeles a color con valores entre 0 y 255 para cada color, todas las variables están en la misma escala. Es importante destacar que estos análisis de los datos han de hacerse únicamente en el conjunto de entrenamiento ya que el conjunto de test es el que será utilizado para evaluar el modelo final y las elecciones tanto del modelo como de las transformaciones no deben influenciarse por la información de este conjunto, y así evitar cometer Data Snooping."
      ]
    },
    {
      "cell_type": "markdown",
      "metadata": {
        "id": "7fULAq-boMii"
      },
      "source": [
        "#Modelo de clasificación"
      ]
    },
    {
      "cell_type": "markdown",
      "metadata": {
        "id": "YfxaLFlJq0r-"
      },
      "source": [
        "Para los problemas de clasificación de imágenes, es común utilizar Redes Neuronales Convolucionales ya que han demostrado ser los mejores modelos para clasificar e identificar objetos y formas dentro de imágenes. Es por eso que hemos elegido un modelo de Red Neuronal Convolucional. El modelo consistirá en una serie de capas de modelo de Neuronas Convolucionales para extraer las carácterísticas más importantes de las imagenes y despúes una serie de capas de modelo de Red Neuronal Densa para aprender las características de las imágenes y clasificar según el tipo de fruta que aparezca en la imágen.\n"
      ]
    },
    {
      "cell_type": "markdown",
      "metadata": {
        "id": "ckHhJFjwpFl0"
      },
      "source": [
        "## Métricas de error\n",
        "\n",
        "#### Métricas de error\n",
        "A continuación vamos a definir cuales son las métricas de error a usar en este problema de clasificación así como decir para cada una que información nos aporta.\n",
        "\n",
        "Las métricas que usaremos son por una parte, sacadas de la matriz de confusión, y otras, son específicas para problemas de clasificación multietiqueta. La matriz de confusión es una herramienta muy usada en Machine Learning para evaluar el rendimiento de un modelo de ML. Se suele usar mayoritariamente en problemas de clasificación y tiene una estructura tabular y que compara la frecuencia de clases predichas por el modelo y su valor real.\n",
        "\n",
        "![](https://dataaspirant.com/3_confusion_matrix/)\n",
        "_Figura tomada de https://dataaspirant.com/wp-content/uploads/2020/08/3_confusion_matrix.png_\n",
        "\n",
        "A partir de la matriz de confusión se pueden calcular métricas para evaluar un modelo de clasificación. Entre ellas se encuentran las que usaremos que son:\n",
        "\n",
        "- _Accuracy_ o exactitud: nos permite medir su tasa de clasificación correcta, es decir, la fracción de ejemplos que ha clasificado correctamente (independientemente de su clase). Se calcula como:\n",
        "$$\\frac{TP + TN}{TP + TN + FP + FN}$$\n",
        "- _Specificity_ o especificidad: Mide la fracción de las muestras que han sido clasificadas como negativas y que realmente fueron negativas, es decir, nos da una métrica para medir que tan bien clasifica la clase negativa. Se calcula como:\n",
        "$$\\frac{TN}{TN + FP}$$\n",
        "- F1-Score: Esta métrica combina dos métricas denominadas _Recall_ y _Precision_ en un valor único, y es especialmente útil cuando queremos encontrar un equilibrio entre los falsos positivos y falsos negativos. Se calcula como:\n",
        "$$\\frac{2\\cdot (\\text{Precision}\\cdot \\text{Recall})}{(\\text{Precision}+ \\text{Recall})}$$\n",
        "\n",
        "Todas estas métricas se pueden adaptar facilmente a la clasificación multiclase calculando el valor de las métrica de las clases por separado y promediando todas las clases obteniendo el valor general de las métricas del modelo.\n",
        "\n",
        "Como podemos observar, estamos eligiendo las métricas que nos pueden dar una mejor percepción global del rendimiento de un modelo. Si observamos por un lado la _Accuracy_ engloba la tasa de clasificación correcta de nuestro modelo, es decir, cuanto acierta nuestro modelo en proporción, esta métrica se considera de las más importantes porque es la que más engloba el rendimiento de un clasificador sin importar la clase que esta prediciendo. Sin embargo,distintos modelos mejores y peores pueden obtener valores parecidos en la métrica de accuracy debido a su estructura interna ya que solo mide los aciertos promedios y no tiene en cuenta que tipo de fallos comete ni en que partes de la clasificación.\n",
        "\n",
        "Por lo tanto para tener más valoraciones de los modelos y poder evaluar sus rendimientos en este caso utilizamos por un lado F1-Score, ya que se considera un métrica muy robusta que balancea el peso de la clase menos representada realizando la media armónica de la métrica _Recall_ y de la _Precision_. Sin embargo, el _Recall_ y la _Precision_ solo tienen en cuenta la clase positiva y ahí es donde entra la última métrica, la _Specificity_ que mide como de bien clasifica la clase negativa, completando el cálculo del rendimiento de un modelo.\n",
        "\n",
        "Con estas métricas seremos capaces de elegir de forma sensata y con bastante criterio aquel modelo que mejor clasifica una muestra de datos.\n",
        "\n",
        "\n",
        "Como valoración global vamos a definir nuestro criterio de selección. Para ello vamos a crear una métrica que comprende estas tres métricas que cabamos de explicar y es una suma ponderada de estas tres:\n",
        "$$\\alpha_1 \\cdot Acc + \\alpha_2 \\cdot Spec + \\alpha_3 \\cdot \\text{F1}$$\n",
        "\n",
        "De esta manera, podemos definir los coeficientes $\\alpha_i$ según que métricas resultan más importantes o con más peso a la hora de elegir un modelo u otro. Por tanto definiremos estos coeficientes tomándo en cuenta lo siguiente:\n",
        "- Sabemos que las clases de nuestro conjunto de entrenamiento no tienen algún tipo de desbalanceo importante, por lo que realmente la medición de la _accuracy_ resulta una buena métrica en este caso para comparar los modelos, ya que al estar las clases aproximadamente equitativamente bien representadas entonces un modelo con un _accuracy_ muy alto significa un modelo que está clasificando la mayoría de los ejemplos correctamente y no porque sea una clase mayoritaria. Por tanto, a esta métrica le daremos un peso importante.\n",
        "- Por otro lado, el F1-Score es una métrica que combina el _Precision_ y el _Recall_ en una sola métrica, por tanto, resulta útil cuando queremos evitar la sobreestimación o subestimación de los errores en la clasificación. En nuestro caso, los errores en clasificación de frutas no son tan relevantes como lo son los aciertos, sobre todo en clasificación multietiqueta donde la clasificación de no pertenencia de una clase es casi una forma de comportamiento por defecto, ya que la gran mayoría de clases responderan negativamente a la pertenencia del ejemplo a ellas y solo una responderá positivamente; por lo que nos interesa elegir un modelo que clasifica bien un ejemplo. Por tanto, al F1-Score tendrá un peso más bien bajo.\n",
        "- Finalmente, la especificidad mide que tan bien clasifica los casos negativos, en sí el caso es muy similar al de F1-Score, donde nos interesa más premiar los modelos que acierten mejor, por lo que este tendrá un peso muy similar al F1-Score.\n",
        "\n",
        "Por tanto, podemos asignar unos valores aproximados según las consideraciones de cada métrica con el problema al que nos enfrentamos. Por lo que proporcionamos la siguiente asignación:\n",
        "$$\\text{Score}(h) = 0.7 \\cdot Acc(h) + 0.15 \\cdot Spec(h) + 0.15\\cdot F1(h)$$\n",
        "\n"
      ]
    },
    {
      "cell_type": "markdown",
      "metadata": {
        "id": "08AuOTVU3tyP"
      },
      "source": [
        "En la biblioteca de TensorFlow ya existen implementaciones de las métricas de Accuracy y de F1-Score, pero no de Sensitivity. Por lo tanto vamos a crear una métrica personalizada para Sensitivity y también para la métrica que acabamos de definir. Por motivos de la implementación de la biblioteca hace falta definir una clase para cada métrica con unas funciones auxiliares heredadas, pero la implementación de la métrica está en la función `result()` dentro de las clases deifinidas."
      ]
    },
    {
      "cell_type": "code",
      "execution_count": null,
      "metadata": {
        "id": "ukaQbArUy_mr"
      },
      "outputs": [],
      "source": [
        "class CustomSensitivity(tf.keras.metrics.Metric):\n",
        "    def __init__(self, name='sensitivity', **kwargs):\n",
        "        super(CustomSensitivity, self).__init__(name=name, **kwargs)\n",
        "        self.true_positives = self.add_weight('tp', initializer='zeros')\n",
        "        self.false_negatives = self.add_weight('fn', initializer='zeros')\n",
        "\n",
        "    def update_state(self, y_true, y_pred, sample_weight=None):\n",
        "        y_true = tf.cast(y_true, dtype=tf.bool)\n",
        "        y_pred = tf.cast(y_pred > 0.5, dtype=tf.bool)  # Assuming binary classification with a threshold of 0.5\n",
        "\n",
        "        true_positives = tf.math.logical_and(y_true, y_pred)\n",
        "        false_negatives = tf.math.logical_and(y_true, tf.math.logical_not(y_pred))\n",
        "\n",
        "        self.true_positives.assign_add(tf.reduce_sum(tf.cast(true_positives, tf.float32)))\n",
        "        self.false_negatives.assign_add(tf.reduce_sum(tf.cast(false_negatives, tf.float32)))\n",
        "\n",
        "    def result(self):\n",
        "        return self.true_positives / (self.true_positives + self.false_negatives)\n"
      ]
    },
    {
      "cell_type": "code",
      "execution_count": null,
      "metadata": {
        "id": "g0ms0gVm01o8"
      },
      "outputs": [],
      "source": [
        "class CustomScoreMetric(tf.keras.metrics.Metric):\n",
        "    def __init__(self, **kwargs):\n",
        "        super(CustomScoreMetric, self).__init__(name='custom_score', **kwargs)\n",
        "        self.cat_accuracy = tf.keras.metrics.CategoricalAccuracy()\n",
        "        self.f1_score = tf.keras.metrics.F1Score()\n",
        "        self.custom_sensitivity = CustomSensitivity()\n",
        "\n",
        "    def update_state(self, y_true, y_pred, sample_weight=None):\n",
        "        self.cat_accuracy.update_state(y_true, y_pred)\n",
        "        self.f1_score.update_state(y_true, y_pred)\n",
        "        self.custom_sensitivity.update_state(y_true, y_pred)\n",
        "\n",
        "    def result(self):\n",
        "        acc = self.cat_accuracy.result()\n",
        "        f1 = self.f1_score.result()\n",
        "        sens = self.custom_sensitivity.result()\n",
        "\n",
        "        return 0.7 * acc + 0.15 * sens + 0.15 * f1\n",
        "\n",
        "    def reset_state(self):\n",
        "        self.cat_accuracy.reset_state()\n",
        "        self.f1_score.reset_state()\n",
        "        self.custom_sensitivity.reset_state()\n"
      ]
    },
    {
      "cell_type": "markdown",
      "metadata": {
        "id": "TCEUgSGEoa80"
      },
      "source": [
        "##Red Neuronal Convolucional (CNN)"
      ]
    },
    {
      "cell_type": "markdown",
      "metadata": {
        "id": "TFU2cppJpiEP"
      },
      "source": [
        "Para crear el modelo de Red Neuronal Convolucional se utiliza la  la biblioteca de Python Keras, que tiene una interfaz de alto nivel para redes neuronales que trabaja sobre varios motores de cálculo subyacentes, y en este caso utilizaremos TensorFlow. Keras funciona sobre varios motores de cálculo, pero TensorFlow es uno de los backends más utilizados por Keras. TensorFlow provee herramientas para construir y entrenar redes neuronales, y es utilizado comúnmente en conjunción con Keras para el desarrollo de modelos de aprendizaje profundo.\n",
        "En detalle se explican las funciones y parametros que se utilizan para crear el modelo:\n",
        "- `Sequential()`: Se crea un modelo secuencial de Keras. Este tipo de modelo permite agregar capas secuencialmente, una tras otra para crear el modelo personalizado.\n",
        "\n",
        "- `Conv2D`: Capa convolucional que aplica un conjunto de filtros convolucionales a la entrada. La función de activación ReLU se aplica después de la convolución. Los parámetros de entrada de la función representan lo siguiente:\n",
        "\n",
        "  - Número de filtros/neuronas convolucionales (32, 64, 128 dependiendo de cada capa).\n",
        "  - Tamaño de la ventana de convolución en Conv2D: Determina las dimensiones del filtro que se desplaza sobre la imagen de entrada. Un valor como (3, 3) especifica un filtro de 3x3 píxeles que busca patrones locales, influyendo en la extracción de características, la cantidad de parámetros del modelo y la información espacial capturada en la imagen.\n",
        "  - Función de activación ReLU.\n",
        "\n",
        "- `MaxPooling2D`: Capa de submuestreo que reduce el tamaño espacial de la salida y reduce la cantidad de parámetros a aprender. Los parámetros de entrada de la función representan lo siguiente:\n",
        "  - Tamaño de la ventana de pooling en MaxPooling2D: Define las dimensiones de la ventana que reduce el tamaño espacial de la salida de la capa previa. Por ejemplo, (2, 2) indica una ventana de 2x2 píxeles. Esto controla la reducción de la resolución espacial y la retención de características relevantes al realizar el submuestreo.\n",
        "\n",
        "- `Flatten()`: Capa que convierte los mapas de características bidimensionales en un vector unidimensional para alimentar las capas densas.\n",
        "\n",
        "- `Dense`: Capa densa o completamente conectada. Se definen las neuronas y la función de activación para las capas densas. Los parámetros de entrada de la función representan lo siguiente:\n",
        "  - Número de neuronas (64 en una capa).\n",
        "  - Función de activación ReLU en capas densas.\n",
        "  - Capa de salida con un número de neuronas igual al número de clases en el problema.\n",
        "  - Utiliza la función de activación Softmax para obtener probabilidades de cada clase.\n",
        "\n",
        "- `modeloCNN.summary()`: Muestra un resumen detallado de la arquitectura del modelo, incluyendo el tipo de capa, el tamaño de salida y la cantidad de parámetros entrenables en cada capa.\n",
        "\n",
        "Este modelo es una red neuronal convolucional para clasificación de imágenes, compuesta por capas convolucionales, capas de submuestreo, capas completamente conectadas y una capa de salida para clasificación multi-clase.\n"
      ]
    },
    {
      "cell_type": "markdown",
      "source": [
        "Como función de pérdida para el modelo utilizamos la función de entropía cruzada ya que experimentalmente se ha visto que esta función obtiene buenos resultados en modelos de redes neuronales.  \n",
        "\n",
        "**Entropía Cruzada (Cross Entropy)** es una función de pérdida comúnmente utilizada en problemas de clasificación en modelos de aprendizaje automático, incluyendo redes neuronales, para evaluar la discrepancia entre la distribución de probabilidad estimada por el modelo y la distribución real de los datos.\n",
        "\n",
        "Aspectos clave de la Entropía Cruzada en el modelo:\n",
        "\n",
        "- **Métrica de discrepancia:** Evalúa la diferencia entre la distribución de probabilidad predicha por el modelo y la distribución real de las etiquetas. En clasificación, se centra en la predicción de la clase correcta.\n",
        "\n",
        "- **Utilizada en problemas de clasificación:** Es particularmente efectiva en problemas de clasificación multiclase, donde la red debe asignar una clase a una entrada entre múltiples clases posibles.\n",
        "\n",
        "- **Función de pérdida para entrenamiento:** La Entropía Cruzada se utiliza como una función de pérdida durante el entrenamiento del modelo, donde se busca minimizar la discrepancia entre las predicciones y las etiquetas reales.\n",
        "\n",
        "- **Múltiplas variantes:** Hay diferentes tipos de Entropía Cruzada, como Categórica (Categorical), Binaria (Binary), o Sparce, cada una adecuada para diferentes tipos de problemas de clasificación. En nuestro caso utilizamos la variante categórica ya que tenemos 33 clases de frutas distintas.\n",
        "\n",
        "La función de Entropía Cruzada (Cross Entropy) se expresa matemáticamente como:\n",
        "\n",
        "$$ H(y, \\hat{y}) = - \\frac{1}{N} \\sum_{i=1}^{N} \\left( y_i \\cdot \\log(\\hat{y}_i) + (1 - y_i) \\cdot \\log(1 - \\hat{y}_i) \\right) $$\n",
        "\n",
        "Donde:\n",
        "- $y$ representa las etiquetas reales.\n",
        "- $\\hat{y}$ representa las predicciones del modelo.\n",
        "- $N$ es el número de ejemplos.\n",
        "\n",
        "\n",
        "Al utilizar la Entropía Cruzada como función de pérdida en un modelo de CNN, se busca minimizar la discrepancia entre las predicciones del modelo y las etiquetas reales, optimizando así la capacidad del modelo para realizar predicciones precisas en problemas de clasificación.\n"
      ],
      "metadata": {
        "id": "_ik8Fg8IWCXg"
      }
    },
    {
      "cell_type": "markdown",
      "metadata": {
        "id": "UnReCKsIu5yi"
      },
      "source": [
        "La **función de activación ReLU (Rectified Linear Unit)** es una de las funciones más utilizadas en redes neuronales. Su definición matemática es  \n",
        ">$ f(x) = \\max(0, x) $  \n",
        "\n",
        "\n",
        "lo que implica que si el valor de entrada $ x $ es mayor que cero, la función retorna el mismo valor $ x $; en caso contrario, retorna cero.\n",
        "\n",
        "En el modelo de red neuronal convolucional (CNN) se utiliza la función ReLU después de las capas convolucionales y en la capa completamente conectada. Se implementa mediante el parámetro `activation='relu'` en las capas `Conv2D` y `Dense`.\n",
        "\n",
        "Las razones clave para el uso de ReLU son las siguientes:\n",
        "\n",
        "- **No tiene valor máximo:** ReLU no tiene un límite superior y no satura en la región positiva, lo que ayuda a evitar el problema de saturación presente en funciones como la sigmoide o la tangente hiperbólica, donde el gradiente en valores cercanos al máximo y mínimo tiende a desvanecerse y a decrecer significativamente, provocando que el entrenamiento se relentice. De este modo ReLu permite un entrenamiento más rápido. Además esto favorece la convergencia durante el entrenamiento.\n",
        "\n",
        "- **Eficiencia computacional:** También es más eficiente en términos de cómputo que algunas funciones de activación más complejas.\n",
        "\n",
        "La utilización de ReLU en el modelo permite la introducción de no linealidad en las capas, lo que posibilita que el modelo capture y aprenda patrones complejos presentes en los datos de entrada. En resumen, su aplicación en las operaciones de convolución y las capas densas mejora la capacidad del modelo para aprender y extraer características relevantes favoreciendo la clasificación de imágenes.\n"
      ]
    },
    {
      "cell_type": "markdown",
      "metadata": {
        "id": "URrASWREx4_7"
      },
      "source": [
        "La función de activación Softmax se utiliza comúnmente en la capa de salida de una red neuronal, especialmente en problemas de clasificación multiclase.  \n",
        "Su definición matemática es  \n",
        ">$ \\sigma(z)_j = \\frac{e^{z_j}}{\\sum_{k=1}^{K} e^{z_k}} $  \n",
        "\n",
        "donde $ z $ es un vector de entradas a la función, $ K $ es el número total de clases y $ j $ es la clase específica. En el modelo se utiliza esta función de activación en la capa de salida para generar como resultado las probabilidades de pertenencer a cada clase en el formato de salida indicado para este problema.\n",
        "\n",
        "Principales aspectos de la función Softmax:\n",
        "\n",
        "- **Probabilidades normalizadas:** Transforma un vector de números reales en un vector de probabilidades normalizadas que suman 1. Estas probabilidades representan la confianza del modelo en cada clase para una entrada dada.\n",
        "\n",
        "- **Útil en clasificación multiclase:** Es útil en problemas donde se requiere asignar una sola etiqueta a cada ejemplo de entrada entre varias clases posibles.\n",
        "\n",
        "- **Salida para clasificación:** La clase con la probabilidad más alta después de aplicar Softmax se considera la predicción del modelo para la entrada dada.\n",
        "\n",
        "La función Softmax es crucial en la etapa de clasificación, ya que proporciona una salida interpretable y adecuada para la toma de decisiones sobre la pertenencia de una entrada a diferentes categorías.\n"
      ]
    },
    {
      "cell_type": "markdown",
      "metadata": {
        "id": "74ERuFai4l4X"
      },
      "source": [
        "**Early Stopping (Detención Temprana)** es una técnica de regularización utilizada durante el entrenamiento de modelos de aprendizaje automático, en particular, redes neuronales. Su objetivo principal es evitar el sobreajuste del modelo y mejorar la capacidad de generalización.\n",
        "\n",
        "Principales aspectos de Early Stopping:\n",
        "\n",
        "- **Control del rendimiento:** Durante el entrenamiento, Early Stopping supervisa el rendimiento del modelo en un conjunto de validación. Este rendimiento se mide utilizando una métrica, como la fucnión de pérdida u otras métricas como accuracy.\n",
        "\n",
        "- **Detención cuando empeora:** Early Stopping detiene el entrenamiento si el rendimiento en el conjunto de validación empeora en comparación con iteraciones anteriores. Este empeoramiento se conoce como \"sobreajuste\" y se puede detectar por un aumento en la pérdida en lugar de una disminución.\n",
        "\n",
        "- **Mejora de la generalización:** Al detener el entrenamiento en el momento adecuado, Early Stopping ayuda a que el modelo mantenga su capacidad de generalización y evita que memorice el conjunto de entrenamiento.\n",
        "\n",
        "- **Ajuste de hiperparámetros:** Los hiperparámetros importantes en Early Stopping incluyen la métrica de evaluación, la paciencia (número de épocas sin mejora antes de detener) y la restauración de los pesos del modelo en la última iteración de mejora.\n",
        "\n",
        "Early Stopping es una herramienta esencial para mejorar la robustez y el rendimiento de los modelos de aprendizaje automático al evitar el sobreajuste y promover una mejor generalización.\n"
      ]
    },
    {
      "cell_type": "markdown",
      "metadata": {
        "id": "kOdLe1w5QSSl"
      },
      "source": [
        "**Adam** es un algoritmo de optimización comúnmente utilizado en el entrenamiento de modelos de aprendizaje automático, incluyendo redes neuronales, que combina la técnica de descenso de gradiente estocástico con adaptabilidad en la tasa de aprendizaje.\n",
        "\n",
        "Aspectos clave de Adam como optimizador en `model.compile`:\n",
        "\n",
        "- **Adaptabilidad de la tasa de aprendizaje:** Adam ajusta automáticamente la tasa de aprendizaje del modelo a lo largo del entrenamiento para cada parámetro, basándose en estimaciones de primer y segundo momento de los gradientes.\n",
        "\n",
        "- **Eficiencia y rapidez:** Integra las ventajas del descenso de gradiente estocástico con tasas de aprendizaje adaptativas, lo que lo hace efectivo en una amplia gama de problemas de optimización y lo hace converger más rápidamente.\n",
        "\n",
        "- **Tasa de aprendizaje adaptativa por parámetro:** Adam mantiene tasas de aprendizaje independientes por parámetro y las adapta según la magnitud del gradiente, resultando en un entrenamiento más suave y eficiente.\n",
        "\n",
        "- **Valores predeterminadas eficaces:** Adam posee valores predeterminados que suelen funcionar bien en una variedad de tareas, lo que facilita su uso y configuración.\n",
        "\n",
        "Al utilizar Adam como optimizador en `model.compile`, se emplea un algoritmo robusto y eficiente que adaptativamente ajusta las tasas de aprendizaje para acelerar la convergencia y mejorar el rendimiento del modelo durante el entrenamiento.\n"
      ]
    },
    {
      "cell_type": "markdown",
      "metadata": {
        "id": "kDU02qe4fF4d"
      },
      "source": [
        "**MaxPooling2D** es una capa comúnmente empleada en las redes neuronales convolucionales (CNN) para el procesamiento de imágenes y otros datos con estructura similar. Su principal objetivo es realizar el submuestreo (downsampling) de las características extraídas de la capa anterior, reduciendo la resolución espacial.\n",
        "\n",
        "Aspectos clave de MaxPooling2D en el modelo:\n",
        "\n",
        "- **Reducción de la dimensionalidad:** MaxPooling2D reduce la resolución espacial de la salida de la capa anterior al seleccionar el valor máximo de una ventana deslizante (kernel) en la entrada. Esto disminuye la cantidad de parámetros y cálculos necesarios en capas subsiguientes.\n",
        "\n",
        "- **Conservación de características relevantes:** MaxPooling2D conserva las características más prominentes en cada ventana, permitiendo que el modelo se enfoque en las características más importantes mientras reduce el ruido o detalles menos significativos.\n",
        "\n",
        "- **Parámetros configurables:** La dimensión de la ventana de MaxPooling2D se configura, por ejemplo, `(2, 2)` indica una ventana de 2x2 píxeles, y el stride (desplazamiento) controla la cantidad de traslape entre ventanas.\n",
        "\n",
        "- **Utilización en arquitecturas CNN:** MaxPooling2D es un componente fundamental en las CNN para crear representaciones jerárquicas de características en imágenes y otras estructuras de datos.\n",
        "\n",
        "Al utilizar MaxPooling2D en un modelo de CNN, se logra la reducción de la resolución espacial en las características, lo que simplifica el modelo y mejora la capacidad de generalización.\n"
      ]
    },
    {
      "cell_type": "markdown",
      "metadata": {
        "id": "vW-faOfezadZ"
      },
      "source": [
        "## Elección de Hiperparámetros"
      ]
    },
    {
      "cell_type": "markdown",
      "source": [
        "La elección de los hiperparámetros del modelo se realiza en otro cuaderno de colab para no tener que ejecutar todo el proceso, ya que conlleva entrenar una cantidad significativa de modelos con distintos hiperparámetros y comparar su rendimiento para elegir los mejores hiperparámetros mediante las técnicas que en ese cuaderno se explican. Este proceso lleva bastante tiempo de computación y por tanto se pueden observar los resultados obtenidos en las tablas de los hiperparámetros sin ejecutarlo para comprobar el rendimiento del modelo con los distintos hiperparámetros. Finalmente, como resultado del proceso de elección de hiperparámetros se han obtenido los valores ideales obteniendo el modelo con el que vamos a comparar los resultados."
      ],
      "metadata": {
        "id": "pamhtjMfS1LB"
      }
    },
    {
      "cell_type": "markdown",
      "metadata": {
        "id": "D1P2eEip4T80"
      },
      "source": [
        "## Modelo Final"
      ]
    },
    {
      "cell_type": "markdown",
      "source": [
        "Finalmente establecemos el modelo final con los hiperparámetros elegidos como se ha explicado antes:"
      ],
      "metadata": {
        "id": "qoeAdVDa4XeC"
      }
    },
    {
      "cell_type": "code",
      "source": [
        "input_shape = trainX[0].shape\n",
        "num_classes = len(map_labels)"
      ],
      "metadata": {
        "id": "J5mpW0pPcEX8"
      },
      "execution_count": null,
      "outputs": []
    },
    {
      "cell_type": "markdown",
      "source": [
        "Definir hiperparámetros:"
      ],
      "metadata": {
        "id": "W7Rrl-WW5GuK"
      }
    },
    {
      "cell_type": "code",
      "source": [
        "# Valores de los hiperparámetros\n",
        "conv_neurons = [32,64,128]\n",
        "conv_window = [[3,3],[3,3],[3,3]]\n",
        "num_maxPooling = [[2,2],[2,2],[2,2]]\n",
        "dense_neurons = 64\n",
        "batch_size = 96\n",
        "epochs = 4"
      ],
      "metadata": {
        "id": "3rjTmiKEakD5"
      },
      "execution_count": null,
      "outputs": []
    },
    {
      "cell_type": "markdown",
      "source": [
        "Crear modelo"
      ],
      "metadata": {
        "id": "iVldIXww5FPW"
      }
    },
    {
      "cell_type": "code",
      "source": [
        "modeloCNN = Sequential()\n",
        "\n",
        "# Capa convolucional 1\n",
        "modeloCNN.add(Conv2D(conv_neurons[0], conv_window[0], activation='relu', input_shape=input_shape))\n",
        "modeloCNN.add(MaxPooling2D(num_maxPooling[0]))\n",
        "\n",
        "# Capa convolucional 2\n",
        "modeloCNN.add(Conv2D(conv_neurons[1], conv_window[1], activation='relu'))\n",
        "modeloCNN.add(MaxPooling2D(num_maxPooling[1]))\n",
        "\n",
        "# Capa convolucional 3\n",
        "modeloCNN.add(Conv2D(conv_neurons[2], conv_window[2], activation='relu'))\n",
        "modeloCNN.add(MaxPooling2D(num_maxPooling[2]))\n",
        "\n",
        "# Capa de aplanamiento\n",
        "modeloCNN.add(Flatten())\n",
        "\n",
        "# Capa completamente conectada\n",
        "modeloCNN.add(Dense(dense_neurons, activation='relu'))\n",
        "\n",
        "# Capa de salida\n",
        "modeloCNN.add(Dense(num_classes, activation='softmax'))\n",
        "\n",
        "modeloCNN.summary()"
      ],
      "metadata": {
        "colab": {
          "base_uri": "https://localhost:8080/"
        },
        "id": "Ju2X11Y5bDG5",
        "outputId": "4affa500-579c-4205-958a-d8b6c93646d2"
      },
      "execution_count": null,
      "outputs": [
        {
          "output_type": "stream",
          "name": "stdout",
          "text": [
            "Model: \"sequential\"\n",
            "_________________________________________________________________\n",
            " Layer (type)                Output Shape              Param #   \n",
            "=================================================================\n",
            " conv2d (Conv2D)             (None, 98, 98, 32)        896       \n",
            "                                                                 \n",
            " max_pooling2d (MaxPooling2  (None, 49, 49, 32)        0         \n",
            " D)                                                              \n",
            "                                                                 \n",
            " conv2d_1 (Conv2D)           (None, 47, 47, 64)        18496     \n",
            "                                                                 \n",
            " max_pooling2d_1 (MaxPoolin  (None, 23, 23, 64)        0         \n",
            " g2D)                                                            \n",
            "                                                                 \n",
            " conv2d_2 (Conv2D)           (None, 21, 21, 128)       73856     \n",
            "                                                                 \n",
            " max_pooling2d_2 (MaxPoolin  (None, 10, 10, 128)       0         \n",
            " g2D)                                                            \n",
            "                                                                 \n",
            " flatten (Flatten)           (None, 12800)             0         \n",
            "                                                                 \n",
            " dense (Dense)               (None, 64)                819264    \n",
            "                                                                 \n",
            " dense_1 (Dense)             (None, 33)                2145      \n",
            "                                                                 \n",
            "=================================================================\n",
            "Total params: 914657 (3.49 MB)\n",
            "Trainable params: 914657 (3.49 MB)\n",
            "Non-trainable params: 0 (0.00 Byte)\n",
            "_________________________________________________________________\n"
          ]
        }
      ]
    },
    {
      "cell_type": "markdown",
      "source": [
        "Compilamos el modelo"
      ],
      "metadata": {
        "id": "zdubmoS6367j"
      }
    },
    {
      "cell_type": "code",
      "source": [
        "modeloCNN.compile(\n",
        "    optimizer='adam',\n",
        "    loss='categorical_crossentropy',\n",
        "    metrics=[\n",
        "        tf.keras.metrics.CategoricalAccuracy(),\n",
        "        tf.keras.metrics.F1Score(),\n",
        "        CustomSensitivity(),\n",
        "        CustomScoreMetric()\n",
        "    ],\n",
        ")"
      ],
      "metadata": {
        "id": "N2Mg7jm4bMl4"
      },
      "execution_count": null,
      "outputs": []
    },
    {
      "cell_type": "markdown",
      "source": [
        "Aplicamos Early Stopping:"
      ],
      "metadata": {
        "id": "rFKkd-0l33zn"
      }
    },
    {
      "cell_type": "code",
      "source": [
        "# Define Early Stopping\n",
        "early_stopping = EarlyStopping(monitor='loss', patience=3, restore_best_weights=True)"
      ],
      "metadata": {
        "id": "K0gJ3YUycUGO"
      },
      "execution_count": null,
      "outputs": []
    },
    {
      "cell_type": "markdown",
      "source": [
        "Crear conjunto de validación:"
      ],
      "metadata": {
        "id": "Eike8VRW3zb3"
      }
    },
    {
      "cell_type": "code",
      "source": [
        "# Obtener conjuntos de validación y train\n",
        "trainX_CNN, valX_CNN, trainY_CNN, valY_CNN = train_test_split(trainX, trainY_encoded, test_size=0.40)"
      ],
      "metadata": {
        "id": "C7cbTJ9wbC7w"
      },
      "execution_count": null,
      "outputs": []
    },
    {
      "cell_type": "markdown",
      "source": [
        "Entrenamos el modelo"
      ],
      "metadata": {
        "id": "zHGvZz405LkK"
      }
    },
    {
      "cell_type": "code",
      "source": [
        "\n",
        "# Entrenar el modelo\n",
        "history = modeloCNN.fit(\n",
        "  trainX_CNN, trainY_CNN,\n",
        "  epochs=epochs,\n",
        "  batch_size=batch_size,\n",
        "  verbose = 1, # Cantidad de información a mostrar mientras se entrena\n",
        "  callbacks=[early_stopping]\n",
        ")"
      ],
      "metadata": {
        "colab": {
          "base_uri": "https://localhost:8080/"
        },
        "id": "hayhku54c6HR",
        "outputId": "4a3b53e1-c4dc-4ea5-b0a8-6bd4817ccf59"
      },
      "execution_count": null,
      "outputs": [
        {
          "output_type": "stream",
          "name": "stdout",
          "text": [
            "Epoch 1/4\n",
            "64/64 [==============================] - 56s 849ms/step - loss: 8.2912 - categorical_accuracy: 0.3143 - f1_score: 0.2833 - sensitivity: 0.1737 - custom_score: 0.2886\n",
            "Epoch 2/4\n",
            "64/64 [==============================] - 63s 991ms/step - loss: 0.2610 - categorical_accuracy: 0.9332 - f1_score: 0.9301 - sensitivity: 0.8958 - custom_score: 0.9272\n",
            "Epoch 3/4\n",
            "64/64 [==============================] - 60s 938ms/step - loss: 0.0159 - categorical_accuracy: 0.9982 - f1_score: 0.9983 - sensitivity: 0.9975 - custom_score: 0.9981\n",
            "Epoch 4/4\n",
            "64/64 [==============================] - 56s 885ms/step - loss: 0.0042 - categorical_accuracy: 0.9997 - f1_score: 0.9997 - sensitivity: 0.9997 - custom_score: 0.9997\n"
          ]
        }
      ]
    },
    {
      "cell_type": "markdown",
      "source": [
        "Evaluamos el modelo con el conjunto de validación:"
      ],
      "metadata": {
        "id": "c4IhQqyx5NSb"
      }
    },
    {
      "cell_type": "code",
      "source": [
        "# Evaluar el modelo\n",
        "results = modeloCNN.evaluate(valX_CNN,valY_CNN)\n",
        "\n",
        "funcionPerdidaTabla = []\n",
        "accuracyTabla = []\n",
        "f1Tabla = []\n",
        "sensitivityTabla = []\n",
        "customScoreTabla = []\n",
        "accuracyTabla.append(results[1])\n",
        "f1Tabla.append(results[2].mean())\n",
        "funcionPerdidaTabla.append(results[0])\n",
        "sensitivityTabla.append(results[3])\n",
        "customScoreTabla.append(results[4].mean())\n",
        "\n",
        "\n",
        "#Crear DataFrame y mostrarlo\n",
        "tableFrame = pd.DataFrame({'Error de validación (función de pérdida)':funcionPerdidaTabla,\n",
        "                           'Accuracy':accuracyTabla,'F1-Score':f1Tabla,'Sensitivity':sensitivityTabla, 'Métrica personalizada':customScoreTabla})\n",
        "display(tableFrame)"
      ],
      "metadata": {
        "colab": {
          "base_uri": "https://localhost:8080/",
          "height": 98
        },
        "id": "UcsS2Y8hdEac",
        "outputId": "ece422a5-be03-414b-b6f5-22511b8d5d75"
      },
      "execution_count": null,
      "outputs": [
        {
          "output_type": "stream",
          "name": "stdout",
          "text": [
            "127/127 [==============================] - 10s 75ms/step - loss: 0.0080 - categorical_accuracy: 0.9985 - f1_score: 0.9983 - sensitivity: 0.9983 - custom_score: 0.9985\n"
          ]
        },
        {
          "output_type": "display_data",
          "data": {
            "text/plain": [
              "   Error de validación (función de pérdida)  Accuracy  F1-Score  Sensitivity  \\\n",
              "0                                  0.008019  0.998517  0.998334     0.998269   \n",
              "\n",
              "   Métrica personalizada  \n",
              "0               0.998452  "
            ],
            "text/html": [
              "\n",
              "  <div id=\"df-8ba2a919-efd3-41a3-9e95-6233f64a9762\" class=\"colab-df-container\">\n",
              "    <div>\n",
              "<style scoped>\n",
              "    .dataframe tbody tr th:only-of-type {\n",
              "        vertical-align: middle;\n",
              "    }\n",
              "\n",
              "    .dataframe tbody tr th {\n",
              "        vertical-align: top;\n",
              "    }\n",
              "\n",
              "    .dataframe thead th {\n",
              "        text-align: right;\n",
              "    }\n",
              "</style>\n",
              "<table border=\"1\" class=\"dataframe\">\n",
              "  <thead>\n",
              "    <tr style=\"text-align: right;\">\n",
              "      <th></th>\n",
              "      <th>Error de validación (función de pérdida)</th>\n",
              "      <th>Accuracy</th>\n",
              "      <th>F1-Score</th>\n",
              "      <th>Sensitivity</th>\n",
              "      <th>Métrica personalizada</th>\n",
              "    </tr>\n",
              "  </thead>\n",
              "  <tbody>\n",
              "    <tr>\n",
              "      <th>0</th>\n",
              "      <td>0.008019</td>\n",
              "      <td>0.998517</td>\n",
              "      <td>0.998334</td>\n",
              "      <td>0.998269</td>\n",
              "      <td>0.998452</td>\n",
              "    </tr>\n",
              "  </tbody>\n",
              "</table>\n",
              "</div>\n",
              "    <div class=\"colab-df-buttons\">\n",
              "\n",
              "  <div class=\"colab-df-container\">\n",
              "    <button class=\"colab-df-convert\" onclick=\"convertToInteractive('df-8ba2a919-efd3-41a3-9e95-6233f64a9762')\"\n",
              "            title=\"Convert this dataframe to an interactive table.\"\n",
              "            style=\"display:none;\">\n",
              "\n",
              "  <svg xmlns=\"http://www.w3.org/2000/svg\" height=\"24px\" viewBox=\"0 -960 960 960\">\n",
              "    <path d=\"M120-120v-720h720v720H120Zm60-500h600v-160H180v160Zm220 220h160v-160H400v160Zm0 220h160v-160H400v160ZM180-400h160v-160H180v160Zm440 0h160v-160H620v160ZM180-180h160v-160H180v160Zm440 0h160v-160H620v160Z\"/>\n",
              "  </svg>\n",
              "    </button>\n",
              "\n",
              "  <style>\n",
              "    .colab-df-container {\n",
              "      display:flex;\n",
              "      gap: 12px;\n",
              "    }\n",
              "\n",
              "    .colab-df-convert {\n",
              "      background-color: #E8F0FE;\n",
              "      border: none;\n",
              "      border-radius: 50%;\n",
              "      cursor: pointer;\n",
              "      display: none;\n",
              "      fill: #1967D2;\n",
              "      height: 32px;\n",
              "      padding: 0 0 0 0;\n",
              "      width: 32px;\n",
              "    }\n",
              "\n",
              "    .colab-df-convert:hover {\n",
              "      background-color: #E2EBFA;\n",
              "      box-shadow: 0px 1px 2px rgba(60, 64, 67, 0.3), 0px 1px 3px 1px rgba(60, 64, 67, 0.15);\n",
              "      fill: #174EA6;\n",
              "    }\n",
              "\n",
              "    .colab-df-buttons div {\n",
              "      margin-bottom: 4px;\n",
              "    }\n",
              "\n",
              "    [theme=dark] .colab-df-convert {\n",
              "      background-color: #3B4455;\n",
              "      fill: #D2E3FC;\n",
              "    }\n",
              "\n",
              "    [theme=dark] .colab-df-convert:hover {\n",
              "      background-color: #434B5C;\n",
              "      box-shadow: 0px 1px 3px 1px rgba(0, 0, 0, 0.15);\n",
              "      filter: drop-shadow(0px 1px 2px rgba(0, 0, 0, 0.3));\n",
              "      fill: #FFFFFF;\n",
              "    }\n",
              "  </style>\n",
              "\n",
              "    <script>\n",
              "      const buttonEl =\n",
              "        document.querySelector('#df-8ba2a919-efd3-41a3-9e95-6233f64a9762 button.colab-df-convert');\n",
              "      buttonEl.style.display =\n",
              "        google.colab.kernel.accessAllowed ? 'block' : 'none';\n",
              "\n",
              "      async function convertToInteractive(key) {\n",
              "        const element = document.querySelector('#df-8ba2a919-efd3-41a3-9e95-6233f64a9762');\n",
              "        const dataTable =\n",
              "          await google.colab.kernel.invokeFunction('convertToInteractive',\n",
              "                                                    [key], {});\n",
              "        if (!dataTable) return;\n",
              "\n",
              "        const docLinkHtml = 'Like what you see? Visit the ' +\n",
              "          '<a target=\"_blank\" href=https://colab.research.google.com/notebooks/data_table.ipynb>data table notebook</a>'\n",
              "          + ' to learn more about interactive tables.';\n",
              "        element.innerHTML = '';\n",
              "        dataTable['output_type'] = 'display_data';\n",
              "        await google.colab.output.renderOutput(dataTable, element);\n",
              "        const docLink = document.createElement('div');\n",
              "        docLink.innerHTML = docLinkHtml;\n",
              "        element.appendChild(docLink);\n",
              "      }\n",
              "    </script>\n",
              "  </div>\n",
              "\n",
              "    </div>\n",
              "  </div>\n"
            ]
          },
          "metadata": {}
        }
      ]
    },
    {
      "cell_type": "markdown",
      "source": [
        "A partir de los resultados podemos ver que en el conjunto de validación el modelo obtiene muy buenos resultados, casi perfectos. Se podría pensar que esto es debido a un sobreajuste del modelo pero ya que se ha utilizado un conjunto de validación que el modelo no utiliza para entrenar y solo lo utiliza para evaluar el modelo con las métricas, el modelo no está influenciado por este conjunto y las imagenes son una muestra del conjunto de posibles muestras en general y por tanto el resultado del rendimiento es un buen resultado que muestra que el modelo se ha ajustado bien a problema."
      ],
      "metadata": {
        "id": "XxUvbJ8oKsc1"
      }
    },
    {
      "cell_type": "markdown",
      "source": [
        "#Comparación de Conjuntos de Datos"
      ],
      "metadata": {
        "id": "n1XMUdQO5ZXu"
      }
    },
    {
      "cell_type": "markdown",
      "source": [
        "Vamos a cargar todos los conjuntos de datos generados y a compararlos entrenando el modelo con cada uno y evaluando su rendimeinto con el conjunto de test, que fue apartado del conjunto global al principio para evaluar el modelo sobre los distintos conjuntos de entrenamiento y no se ha utilizado para nada más para evitar cometer Data Snooping."
      ],
      "metadata": {
        "id": "aApnRkweRHzB"
      }
    },
    {
      "cell_type": "code",
      "execution_count": null,
      "metadata": {
        "colab": {
          "base_uri": "https://localhost:8080/"
        },
        "outputId": "c3c19735-3d74-43ab-8a1e-2463a3a2e2af",
        "id": "S_K-Jm0e7Lib"
      },
      "outputs": [
        {
          "output_type": "stream",
          "name": "stdout",
          "text": [
            "Forma de vector trainX_2 de muestras: (13200, 100, 100, 3)\n",
            "Forma de vector trainY_2 de etiquetas: (13200,)\n",
            "Forma de vector trainX_3 de muestras: (33000, 100, 100, 3)\n",
            "Forma de vector trainY_3 de etiquetas: (33000,)\n",
            "Forma de vector trainX_4 de muestras: (66000, 100, 100, 3)\n",
            "Forma de vector trainY_4 de etiquetas: (66000,)\n"
          ]
        }
      ],
      "source": [
        "file_path2 = 'drive/MyDrive/Colab Notebooks/datos/data_dos_transformaciones.npz'\n",
        "file_path3 = 'drive/MyDrive/Colab Notebooks/datos/data_tres_transformaciones.npz'\n",
        "file_path4 = 'drive/MyDrive/Colab Notebooks/datos/data_cuatro_transformaciones.npz'\n",
        "\n",
        "loaded_data2 = np.load(file_path2)\n",
        "trainX_2 = loaded_data2['data'] # cargar el array con los valores de cada imagen de train\n",
        "trainY_2 = loaded_data2['labels'] # cargar el array con los valores de las etiquetas de train\n",
        "\n",
        "loaded_data3 = np.load(file_path3)\n",
        "trainX_3 = loaded_data3['data'] # cargar el array con los valores de cada imagen de train\n",
        "trainY_3 = loaded_data3['labels'] # cargar el array con los valores de las etiquetas de train\n",
        "\n",
        "loaded_data4 = np.load(file_path4)\n",
        "trainX_4 = loaded_data4['data'] # cargar el array con los valores de cada imagen de train\n",
        "trainY_4 = loaded_data4['labels'] # cargar el array con los valores de las etiquetas de train\n",
        "\n",
        "\n",
        "\n",
        "# Transformar en arrays de numpy para mayor eficiencia\n",
        "trainX_2 = np.array(trainX_2)\n",
        "trainY_2 = np.array(trainY_2)\n",
        "\n",
        "trainX_3 = np.array(trainX_3)\n",
        "trainY_3 = np.array(trainY_3)\n",
        "\n",
        "trainX_4 = np.array(trainX_4)\n",
        "trainY_4 = np.array(trainY_4)\n",
        "\n",
        "\n",
        "# Mostrar dimension del conjunto de muestras total\n",
        "print(\"Forma de vector trainX_2 de muestras:\", trainX_2.shape)\n",
        "print(\"Forma de vector trainY_2 de etiquetas:\", trainY_2.shape)\n",
        "\n",
        "print(\"Forma de vector trainX_3 de muestras:\", trainX_3.shape)\n",
        "print(\"Forma de vector trainY_3 de etiquetas:\", trainY_3.shape)\n",
        "\n",
        "print(\"Forma de vector trainX_4 de muestras:\", trainX_4.shape)\n",
        "print(\"Forma de vector trainY_4 de etiquetas:\", trainY_4.shape)"
      ]
    },
    {
      "cell_type": "markdown",
      "source": [
        "Mismo preprocesado de datos"
      ],
      "metadata": {
        "id": "VhvavoqlRk8_"
      }
    },
    {
      "cell_type": "code",
      "execution_count": null,
      "metadata": {
        "colab": {
          "base_uri": "https://localhost:8080/"
        },
        "outputId": "d9f95d26-a4c6-414d-8667-68a8ca83be3c",
        "id": "CjMG7a-M7Lii"
      },
      "outputs": [
        {
          "output_type": "stream",
          "name": "stdout",
          "text": [
            "Forma de vector Y del conjunto total de etiquetas: (13200, 33)\n",
            "Forma de vector Y del conjunto total de etiquetas: (33000, 33)\n",
            "Forma de vector Y del conjunto total de etiquetas: (66000, 33)\n"
          ]
        }
      ],
      "source": [
        "# Etiquetas numéricas\n",
        "categorias =  [np.arange(len(map_labels))]\n",
        "\n",
        "# Reshape del vector de etiquetas a una matriz columna para aplicar el codificador al vector\n",
        "trainY_2reshaped = trainY_2.reshape(-1, 1)\n",
        "trainY_3reshaped = trainY_3.reshape(-1, 1)\n",
        "trainY_4reshaped = trainY_4.reshape(-1, 1)\n",
        "\n",
        "#Funcion para codificar\n",
        "encoder = OneHotEncoder(\n",
        "     categories=categorias,  # Categorías de cada variable\n",
        "     sparse_output=False,  # crea una matriz sparse cuando se pone TRUE\n",
        "     drop  = None  #  No quitar categorías en cada variable\n",
        "     )\n",
        "\n",
        "trainY_2encoded = encoder.fit_transform(trainY_2reshaped) # Aplicar One Hot Encoding al conjunto entrenamiento\n",
        "trainY_3encoded = encoder.fit_transform(trainY_3reshaped) # Aplicar One Hot Encoding al conjunto entrenamiento\n",
        "trainY_4encoded = encoder.fit_transform(trainY_4reshaped) # Aplicar One Hot Encoding al conjunto entrenamiento\n",
        "print(\"Forma de vector Y del conjunto total de etiquetas:\",trainY_2encoded.shape)\n",
        "print(\"Forma de vector Y del conjunto total de etiquetas:\",trainY_3encoded.shape)\n",
        "print(\"Forma de vector Y del conjunto total de etiquetas:\",trainY_4encoded.shape)"
      ]
    },
    {
      "cell_type": "markdown",
      "source": [
        "##Entrenamiento con los conjuntos"
      ],
      "metadata": {
        "id": "spm_Bm7kBg2h"
      }
    },
    {
      "cell_type": "markdown",
      "source": [
        "vamos a entrenar el modelo con cada conjunto de datos y evaluar el rendimiento del modelo con el conjunto de test. Los resultados los mostramos en una tabla para poder comparar entre ellos."
      ],
      "metadata": {
        "id": "SThqhCfxSENo"
      }
    },
    {
      "cell_type": "code",
      "source": [
        "funcionPerdidaTabla = []\n",
        "accuracyTabla = []\n",
        "f1Tabla = []\n",
        "sensitivityTabla = []\n",
        "customScoreTabla = []\n",
        "modeloTabla = []"
      ],
      "metadata": {
        "id": "dNP9gNCfBrwR"
      },
      "execution_count": null,
      "outputs": []
    },
    {
      "cell_type": "code",
      "source": [
        "epochs = 4"
      ],
      "metadata": {
        "id": "SRgvbP_NCgHW"
      },
      "execution_count": null,
      "outputs": []
    },
    {
      "cell_type": "markdown",
      "source": [
        ">Conjunto Original"
      ],
      "metadata": {
        "id": "6xqnxUrfCIxZ"
      }
    },
    {
      "cell_type": "code",
      "source": [
        "# Entrenar el modelo\n",
        "history = modeloCNN.fit(\n",
        "  trainX, trainY_encoded,\n",
        "  epochs=epochs,\n",
        "  batch_size=batch_size,\n",
        "  verbose = 1, # Cantidad de información a mostrar mientras se entrena\n",
        "  callbacks=[early_stopping]\n",
        ")\n",
        "\n",
        "# Evaluar el modelo\n",
        "results = modeloCNN.evaluate(testX,testY_encoded)\n",
        "\n",
        "modeloTabla = 'Conjunto Original'\n",
        "accuracyTabla.append(results[1])\n",
        "f1Tabla.append(results[2].mean())\n",
        "funcionPerdidaTabla.append(results[0])\n",
        "sensitivityTabla.append(results[3])\n",
        "customScoreTabla.append(results[4].mean())"
      ],
      "metadata": {
        "colab": {
          "base_uri": "https://localhost:8080/"
        },
        "outputId": "60645d08-c73c-424e-98bd-740a408ed5b6",
        "id": "IcCvhokOBmbN"
      },
      "execution_count": null,
      "outputs": [
        {
          "output_type": "stream",
          "name": "stdout",
          "text": [
            "Epoch 1/4\n",
            "106/106 [==============================] - 175s 2s/step - loss: 0.5673 - categorical_accuracy: 0.8273 - f1_score: 0.8037 - sensitivity: 0.7732 - custom_score: 0.8157\n",
            "Epoch 2/4\n",
            "106/106 [==============================] - 168s 2s/step - loss: 0.0827 - categorical_accuracy: 0.9795 - f1_score: 0.9785 - sensitivity: 0.9706 - custom_score: 0.9780\n",
            "Epoch 3/4\n",
            "106/106 [==============================] - 169s 2s/step - loss: 0.0201 - categorical_accuracy: 0.9961 - f1_score: 0.9960 - sensitivity: 0.9952 - custom_score: 0.9960\n",
            "Epoch 4/4\n",
            "106/106 [==============================] - 172s 2s/step - loss: 0.0293 - categorical_accuracy: 0.9923 - f1_score: 0.9921 - sensitivity: 0.9915 - custom_score: 0.9921\n",
            "211/211 [==============================] - 31s 149ms/step - loss: 0.0244 - categorical_accuracy: 0.9932 - f1_score: 0.9927 - sensitivity: 0.9917 - custom_score: 0.9929\n"
          ]
        }
      ]
    },
    {
      "cell_type": "markdown",
      "source": [
        ">Conjunto Generado 2"
      ],
      "metadata": {
        "id": "OS_4NQGnEQNz"
      }
    },
    {
      "cell_type": "code",
      "source": [
        "# Entrenar el modelo\n",
        "history = modeloCNN.fit(\n",
        "  trainX_2, trainY_2encoded,\n",
        "  epochs=epochs,\n",
        "  batch_size=batch_size,\n",
        "  verbose = 1, # Cantidad de información a mostrar mientras se entrena\n",
        "  callbacks=[early_stopping]\n",
        ")\n",
        "\n",
        "# Evaluar el modelo\n",
        "results = modeloCNN.evaluate(testX,testY_encoded)\n",
        "\n",
        "modeloTabla = 'Conjunto generado 2'\n",
        "accuracyTabla.append(results[1])\n",
        "f1Tabla.append(results[2].mean())\n",
        "funcionPerdidaTabla.append(results[0])\n",
        "sensitivityTabla.append(results[3])\n",
        "customScoreTabla.append(results[4].mean())"
      ],
      "metadata": {
        "colab": {
          "base_uri": "https://localhost:8080/"
        },
        "outputId": "3267d8a0-7e0d-40a8-baf1-656d56e67019",
        "id": "zIq4qvBnEQNz"
      },
      "execution_count": null,
      "outputs": [
        {
          "output_type": "stream",
          "name": "stdout",
          "text": [
            "Epoch 1/4\n",
            "138/138 [==============================] - 219s 2s/step - loss: 0.9131 - categorical_accuracy: 0.7555 - f1_score: 0.7564 - sensitivity: 0.6800 - custom_score: 0.7443\n",
            "Epoch 2/4\n",
            "138/138 [==============================] - 217s 2s/step - loss: 0.1617 - categorical_accuracy: 0.9483 - f1_score: 0.9485 - sensitivity: 0.9405 - custom_score: 0.9472\n",
            "Epoch 3/4\n",
            "138/138 [==============================] - 216s 2s/step - loss: 0.0846 - categorical_accuracy: 0.9722 - f1_score: 0.9722 - sensitivity: 0.9688 - custom_score: 0.9717\n",
            "Epoch 4/4\n",
            "138/138 [==============================] - 223s 2s/step - loss: 0.0311 - categorical_accuracy: 0.9900 - f1_score: 0.9900 - sensitivity: 0.9893 - custom_score: 0.9899\n",
            "211/211 [==============================] - 36s 172ms/step - loss: 1.5268 - categorical_accuracy: 0.8994 - f1_score: 0.8785 - sensitivity: 0.8984 - custom_score: 0.8961\n"
          ]
        }
      ]
    },
    {
      "cell_type": "markdown",
      "source": [
        ">Conjunto Generado 3"
      ],
      "metadata": {
        "id": "jb37aEfIEQVH"
      }
    },
    {
      "cell_type": "code",
      "source": [
        "# Entrenar el modelo\n",
        "history = modeloCNN.fit(\n",
        "  trainX_3, trainY_3encoded,\n",
        "  epochs=epochs,\n",
        "  batch_size=batch_size,\n",
        "  verbose = 1, # Cantidad de información a mostrar mientras se entrena\n",
        "  callbacks=[early_stopping]\n",
        ")\n",
        "\n",
        "# Evaluar el modelo\n",
        "results = modeloCNN.evaluate(testX,testY_encoded)\n",
        "\n",
        "modeloTabla = 'Conjunto Generado 3'\n",
        "accuracyTabla.append(results[1])\n",
        "f1Tabla.append(results[2].mean())\n",
        "funcionPerdidaTabla.append(results[0])\n",
        "sensitivityTabla.append(results[3])\n",
        "customScoreTabla.append(results[4].mean())"
      ],
      "metadata": {
        "colab": {
          "base_uri": "https://localhost:8080/"
        },
        "outputId": "37377ec2-e551-4b24-f229-d40727cc843b",
        "id": "mon5UZFjEQVH"
      },
      "execution_count": null,
      "outputs": [
        {
          "output_type": "stream",
          "name": "stdout",
          "text": [
            "Epoch 1/4\n",
            "344/344 [==============================] - 542s 2s/step - loss: 1.3725 - categorical_accuracy: 0.5987 - f1_score: 0.6007 - sensitivity: 0.4777 - custom_score: 0.5809\n",
            "Epoch 2/4\n",
            "344/344 [==============================] - 549s 2s/step - loss: 0.5163 - categorical_accuracy: 0.8260 - f1_score: 0.8255 - sensitivity: 0.7804 - custom_score: 0.8191\n",
            "Epoch 3/4\n",
            "344/344 [==============================] - 611s 2s/step - loss: 0.3213 - categorical_accuracy: 0.8902 - f1_score: 0.8900 - sensitivity: 0.8668 - custom_score: 0.8867\n",
            "Epoch 4/4\n",
            "344/344 [==============================] - 554s 2s/step - loss: 0.2324 - categorical_accuracy: 0.9222 - f1_score: 0.9220 - sensitivity: 0.9075 - custom_score: 0.9199\n",
            "211/211 [==============================] - 29s 139ms/step - loss: 0.9233 - categorical_accuracy: 0.8839 - f1_score: 0.8689 - sensitivity: 0.8799 - custom_score: 0.8810\n"
          ]
        }
      ]
    },
    {
      "cell_type": "markdown",
      "source": [
        ">Conjunto Generado 4"
      ],
      "metadata": {
        "id": "HgzSa-1-EQnU"
      }
    },
    {
      "cell_type": "code",
      "source": [
        "# Entrenar el modelo\n",
        "history = modeloCNN.fit(\n",
        "  trainX_4, trainY_4encoded,\n",
        "  epochs=epochs,\n",
        "  batch_size=batch_size,\n",
        "  verbose = 1, # Cantidad de información a mostrar mientras se entrena\n",
        "  callbacks=[early_stopping]\n",
        ")\n",
        "\n",
        "# Evaluar el modelo\n",
        "results = modeloCNN.evaluate(testX,testY_encoded)\n",
        "\n",
        "modeloTabla = 'Conjunto Generado 4'\n",
        "accuracyTabla.append(results[1])\n",
        "f1Tabla.append(results[2].mean())\n",
        "funcionPerdidaTabla.append(results[0])\n",
        "sensitivityTabla.append(results[3])\n",
        "customScoreTabla.append(results[4].mean())"
      ],
      "metadata": {
        "colab": {
          "base_uri": "https://localhost:8080/"
        },
        "outputId": "4d588fcc-ce69-4e7c-b31c-6c0e937bbc25",
        "id": "I0lyDXigEQnU"
      },
      "execution_count": null,
      "outputs": [
        {
          "output_type": "stream",
          "name": "stdout",
          "text": [
            "Epoch 1/4\n",
            "688/688 [==============================] - 1146s 2s/step - loss: 0.2886 - categorical_accuracy: 0.9081 - f1_score: 0.9080 - sensitivity: 0.8911 - custom_score: 0.9055\n",
            "Epoch 2/4\n",
            "688/688 [==============================] - 1080s 2s/step - loss: 0.1496 - categorical_accuracy: 0.9508 - f1_score: 0.9508 - sensitivity: 0.9436 - custom_score: 0.9498\n",
            "Epoch 3/4\n",
            "688/688 [==============================] - 1070s 2s/step - loss: 0.1186 - categorical_accuracy: 0.9607 - f1_score: 0.9607 - sensitivity: 0.9560 - custom_score: 0.9600\n",
            "Epoch 4/4\n",
            "688/688 [==============================] - 1071s 2s/step - loss: 0.1004 - categorical_accuracy: 0.9672 - f1_score: 0.9672 - sensitivity: 0.9633 - custom_score: 0.9667\n",
            "211/211 [==============================] - 29s 139ms/step - loss: 1.5065 - categorical_accuracy: 0.8670 - f1_score: 0.8456 - sensitivity: 0.8637 - custom_score: 0.8633\n"
          ]
        }
      ]
    },
    {
      "cell_type": "code",
      "source": [
        "#Crear DataFrame y mostrarlo\n",
        "tableFrame = pd.DataFrame({'Conjunto utilizado': modeloTabla,'Error de test (función de pérdida)':funcionPerdidaTabla,\n",
        "                           'Accuracy':accuracyTabla,'F1-Score':f1Tabla,'Sensitivity':sensitivityTabla, 'Métrica personalizada':customScoreTabla})\n",
        "display(tableFrame)"
      ],
      "metadata": {
        "colab": {
          "base_uri": "https://localhost:8080/",
          "height": 175
        },
        "outputId": "64362166-4ad3-45eb-f2e2-fac6f615b14d",
        "id": "NVG24kmmBmbV"
      },
      "execution_count": null,
      "outputs": [
        {
          "output_type": "display_data",
          "data": {
            "text/plain": [
              "    Conjunto utilizado  Error de test (función de pérdida)  Accuracy  \\\n",
              "0  Conjunto Generado 4                            0.024357  0.993177   \n",
              "1  Conjunto Generado 4                            1.526816  0.899436   \n",
              "2  Conjunto Generado 4                            0.923319  0.883862   \n",
              "3  Conjunto Generado 4                            1.506544  0.866953   \n",
              "\n",
              "   F1-Score  Sensitivity  Métrica personalizada  \n",
              "0  0.992709     0.991694               0.992884  \n",
              "1  0.878473     0.898398               0.896136  \n",
              "2  0.868885     0.879858               0.881015  \n",
              "3  0.845595     0.863690               0.863260  "
            ],
            "text/html": [
              "\n",
              "  <div id=\"df-01b318a9-22b6-4427-9ea8-d5180f094759\" class=\"colab-df-container\">\n",
              "    <div>\n",
              "<style scoped>\n",
              "    .dataframe tbody tr th:only-of-type {\n",
              "        vertical-align: middle;\n",
              "    }\n",
              "\n",
              "    .dataframe tbody tr th {\n",
              "        vertical-align: top;\n",
              "    }\n",
              "\n",
              "    .dataframe thead th {\n",
              "        text-align: right;\n",
              "    }\n",
              "</style>\n",
              "<table border=\"1\" class=\"dataframe\">\n",
              "  <thead>\n",
              "    <tr style=\"text-align: right;\">\n",
              "      <th></th>\n",
              "      <th>Conjunto utilizado</th>\n",
              "      <th>Error de test (función de pérdida)</th>\n",
              "      <th>Accuracy</th>\n",
              "      <th>F1-Score</th>\n",
              "      <th>Sensitivity</th>\n",
              "      <th>Métrica personalizada</th>\n",
              "    </tr>\n",
              "  </thead>\n",
              "  <tbody>\n",
              "    <tr>\n",
              "      <th>0</th>\n",
              "      <td>Conjunto Generado 4</td>\n",
              "      <td>0.024357</td>\n",
              "      <td>0.993177</td>\n",
              "      <td>0.992709</td>\n",
              "      <td>0.991694</td>\n",
              "      <td>0.992884</td>\n",
              "    </tr>\n",
              "    <tr>\n",
              "      <th>1</th>\n",
              "      <td>Conjunto Generado 4</td>\n",
              "      <td>1.526816</td>\n",
              "      <td>0.899436</td>\n",
              "      <td>0.878473</td>\n",
              "      <td>0.898398</td>\n",
              "      <td>0.896136</td>\n",
              "    </tr>\n",
              "    <tr>\n",
              "      <th>2</th>\n",
              "      <td>Conjunto Generado 4</td>\n",
              "      <td>0.923319</td>\n",
              "      <td>0.883862</td>\n",
              "      <td>0.868885</td>\n",
              "      <td>0.879858</td>\n",
              "      <td>0.881015</td>\n",
              "    </tr>\n",
              "    <tr>\n",
              "      <th>3</th>\n",
              "      <td>Conjunto Generado 4</td>\n",
              "      <td>1.506544</td>\n",
              "      <td>0.866953</td>\n",
              "      <td>0.845595</td>\n",
              "      <td>0.863690</td>\n",
              "      <td>0.863260</td>\n",
              "    </tr>\n",
              "  </tbody>\n",
              "</table>\n",
              "</div>\n",
              "    <div class=\"colab-df-buttons\">\n",
              "\n",
              "  <div class=\"colab-df-container\">\n",
              "    <button class=\"colab-df-convert\" onclick=\"convertToInteractive('df-01b318a9-22b6-4427-9ea8-d5180f094759')\"\n",
              "            title=\"Convert this dataframe to an interactive table.\"\n",
              "            style=\"display:none;\">\n",
              "\n",
              "  <svg xmlns=\"http://www.w3.org/2000/svg\" height=\"24px\" viewBox=\"0 -960 960 960\">\n",
              "    <path d=\"M120-120v-720h720v720H120Zm60-500h600v-160H180v160Zm220 220h160v-160H400v160Zm0 220h160v-160H400v160ZM180-400h160v-160H180v160Zm440 0h160v-160H620v160ZM180-180h160v-160H180v160Zm440 0h160v-160H620v160Z\"/>\n",
              "  </svg>\n",
              "    </button>\n",
              "\n",
              "  <style>\n",
              "    .colab-df-container {\n",
              "      display:flex;\n",
              "      gap: 12px;\n",
              "    }\n",
              "\n",
              "    .colab-df-convert {\n",
              "      background-color: #E8F0FE;\n",
              "      border: none;\n",
              "      border-radius: 50%;\n",
              "      cursor: pointer;\n",
              "      display: none;\n",
              "      fill: #1967D2;\n",
              "      height: 32px;\n",
              "      padding: 0 0 0 0;\n",
              "      width: 32px;\n",
              "    }\n",
              "\n",
              "    .colab-df-convert:hover {\n",
              "      background-color: #E2EBFA;\n",
              "      box-shadow: 0px 1px 2px rgba(60, 64, 67, 0.3), 0px 1px 3px 1px rgba(60, 64, 67, 0.15);\n",
              "      fill: #174EA6;\n",
              "    }\n",
              "\n",
              "    .colab-df-buttons div {\n",
              "      margin-bottom: 4px;\n",
              "    }\n",
              "\n",
              "    [theme=dark] .colab-df-convert {\n",
              "      background-color: #3B4455;\n",
              "      fill: #D2E3FC;\n",
              "    }\n",
              "\n",
              "    [theme=dark] .colab-df-convert:hover {\n",
              "      background-color: #434B5C;\n",
              "      box-shadow: 0px 1px 3px 1px rgba(0, 0, 0, 0.15);\n",
              "      filter: drop-shadow(0px 1px 2px rgba(0, 0, 0, 0.3));\n",
              "      fill: #FFFFFF;\n",
              "    }\n",
              "  </style>\n",
              "\n",
              "    <script>\n",
              "      const buttonEl =\n",
              "        document.querySelector('#df-01b318a9-22b6-4427-9ea8-d5180f094759 button.colab-df-convert');\n",
              "      buttonEl.style.display =\n",
              "        google.colab.kernel.accessAllowed ? 'block' : 'none';\n",
              "\n",
              "      async function convertToInteractive(key) {\n",
              "        const element = document.querySelector('#df-01b318a9-22b6-4427-9ea8-d5180f094759');\n",
              "        const dataTable =\n",
              "          await google.colab.kernel.invokeFunction('convertToInteractive',\n",
              "                                                    [key], {});\n",
              "        if (!dataTable) return;\n",
              "\n",
              "        const docLinkHtml = 'Like what you see? Visit the ' +\n",
              "          '<a target=\"_blank\" href=https://colab.research.google.com/notebooks/data_table.ipynb>data table notebook</a>'\n",
              "          + ' to learn more about interactive tables.';\n",
              "        element.innerHTML = '';\n",
              "        dataTable['output_type'] = 'display_data';\n",
              "        await google.colab.output.renderOutput(dataTable, element);\n",
              "        const docLink = document.createElement('div');\n",
              "        docLink.innerHTML = docLinkHtml;\n",
              "        element.appendChild(docLink);\n",
              "      }\n",
              "    </script>\n",
              "  </div>\n",
              "\n",
              "\n",
              "<div id=\"df-b3445be9-1643-470c-bc5d-5f5d0f158ee5\">\n",
              "  <button class=\"colab-df-quickchart\" onclick=\"quickchart('df-b3445be9-1643-470c-bc5d-5f5d0f158ee5')\"\n",
              "            title=\"Suggest charts.\"\n",
              "            style=\"display:none;\">\n",
              "\n",
              "<svg xmlns=\"http://www.w3.org/2000/svg\" height=\"24px\"viewBox=\"0 0 24 24\"\n",
              "     width=\"24px\">\n",
              "    <g>\n",
              "        <path d=\"M19 3H5c-1.1 0-2 .9-2 2v14c0 1.1.9 2 2 2h14c1.1 0 2-.9 2-2V5c0-1.1-.9-2-2-2zM9 17H7v-7h2v7zm4 0h-2V7h2v10zm4 0h-2v-4h2v4z\"/>\n",
              "    </g>\n",
              "</svg>\n",
              "  </button>\n",
              "\n",
              "<style>\n",
              "  .colab-df-quickchart {\n",
              "      --bg-color: #E8F0FE;\n",
              "      --fill-color: #1967D2;\n",
              "      --hover-bg-color: #E2EBFA;\n",
              "      --hover-fill-color: #174EA6;\n",
              "      --disabled-fill-color: #AAA;\n",
              "      --disabled-bg-color: #DDD;\n",
              "  }\n",
              "\n",
              "  [theme=dark] .colab-df-quickchart {\n",
              "      --bg-color: #3B4455;\n",
              "      --fill-color: #D2E3FC;\n",
              "      --hover-bg-color: #434B5C;\n",
              "      --hover-fill-color: #FFFFFF;\n",
              "      --disabled-bg-color: #3B4455;\n",
              "      --disabled-fill-color: #666;\n",
              "  }\n",
              "\n",
              "  .colab-df-quickchart {\n",
              "    background-color: var(--bg-color);\n",
              "    border: none;\n",
              "    border-radius: 50%;\n",
              "    cursor: pointer;\n",
              "    display: none;\n",
              "    fill: var(--fill-color);\n",
              "    height: 32px;\n",
              "    padding: 0;\n",
              "    width: 32px;\n",
              "  }\n",
              "\n",
              "  .colab-df-quickchart:hover {\n",
              "    background-color: var(--hover-bg-color);\n",
              "    box-shadow: 0 1px 2px rgba(60, 64, 67, 0.3), 0 1px 3px 1px rgba(60, 64, 67, 0.15);\n",
              "    fill: var(--button-hover-fill-color);\n",
              "  }\n",
              "\n",
              "  .colab-df-quickchart-complete:disabled,\n",
              "  .colab-df-quickchart-complete:disabled:hover {\n",
              "    background-color: var(--disabled-bg-color);\n",
              "    fill: var(--disabled-fill-color);\n",
              "    box-shadow: none;\n",
              "  }\n",
              "\n",
              "  .colab-df-spinner {\n",
              "    border: 2px solid var(--fill-color);\n",
              "    border-color: transparent;\n",
              "    border-bottom-color: var(--fill-color);\n",
              "    animation:\n",
              "      spin 1s steps(1) infinite;\n",
              "  }\n",
              "\n",
              "  @keyframes spin {\n",
              "    0% {\n",
              "      border-color: transparent;\n",
              "      border-bottom-color: var(--fill-color);\n",
              "      border-left-color: var(--fill-color);\n",
              "    }\n",
              "    20% {\n",
              "      border-color: transparent;\n",
              "      border-left-color: var(--fill-color);\n",
              "      border-top-color: var(--fill-color);\n",
              "    }\n",
              "    30% {\n",
              "      border-color: transparent;\n",
              "      border-left-color: var(--fill-color);\n",
              "      border-top-color: var(--fill-color);\n",
              "      border-right-color: var(--fill-color);\n",
              "    }\n",
              "    40% {\n",
              "      border-color: transparent;\n",
              "      border-right-color: var(--fill-color);\n",
              "      border-top-color: var(--fill-color);\n",
              "    }\n",
              "    60% {\n",
              "      border-color: transparent;\n",
              "      border-right-color: var(--fill-color);\n",
              "    }\n",
              "    80% {\n",
              "      border-color: transparent;\n",
              "      border-right-color: var(--fill-color);\n",
              "      border-bottom-color: var(--fill-color);\n",
              "    }\n",
              "    90% {\n",
              "      border-color: transparent;\n",
              "      border-bottom-color: var(--fill-color);\n",
              "    }\n",
              "  }\n",
              "</style>\n",
              "\n",
              "  <script>\n",
              "    async function quickchart(key) {\n",
              "      const quickchartButtonEl =\n",
              "        document.querySelector('#' + key + ' button');\n",
              "      quickchartButtonEl.disabled = true;  // To prevent multiple clicks.\n",
              "      quickchartButtonEl.classList.add('colab-df-spinner');\n",
              "      try {\n",
              "        const charts = await google.colab.kernel.invokeFunction(\n",
              "            'suggestCharts', [key], {});\n",
              "      } catch (error) {\n",
              "        console.error('Error during call to suggestCharts:', error);\n",
              "      }\n",
              "      quickchartButtonEl.classList.remove('colab-df-spinner');\n",
              "      quickchartButtonEl.classList.add('colab-df-quickchart-complete');\n",
              "    }\n",
              "    (() => {\n",
              "      let quickchartButtonEl =\n",
              "        document.querySelector('#df-b3445be9-1643-470c-bc5d-5f5d0f158ee5 button');\n",
              "      quickchartButtonEl.style.display =\n",
              "        google.colab.kernel.accessAllowed ? 'block' : 'none';\n",
              "    })();\n",
              "  </script>\n",
              "</div>\n",
              "    </div>\n",
              "  </div>\n"
            ]
          },
          "metadata": {}
        }
      ]
    },
    {
      "cell_type": "code",
      "source": [
        "modeloTabla = []\n",
        "modeloTabla.append('Conjunto Generado 1')\n",
        "modeloTabla.append('Conjunto Generado 2')\n",
        "modeloTabla.append('Conjunto Generado 3')\n",
        "modeloTabla.append('Conjunto Generado 4')"
      ],
      "metadata": {
        "id": "w3GpSKecmgPr"
      },
      "execution_count": null,
      "outputs": []
    },
    {
      "cell_type": "code",
      "source": [
        "#Crear DataFrame y mostrarlo\n",
        "tableFrame = pd.DataFrame({'Conjunto utilizado': modeloTabla,'Error de test (función de pérdida)':funcionPerdidaTabla,\n",
        "                           'Accuracy':accuracyTabla,'F1-Score':f1Tabla,'Sensitivity':sensitivityTabla, 'Métrica personalizada':customScoreTabla})\n",
        "display(tableFrame)"
      ],
      "metadata": {
        "colab": {
          "base_uri": "https://localhost:8080/",
          "height": 175
        },
        "outputId": "119cfa9a-03ff-4115-bdc9-cf1011578c5f",
        "id": "XiRKGT4EpONW"
      },
      "execution_count": null,
      "outputs": [
        {
          "output_type": "display_data",
          "data": {
            "text/plain": [
              "    Conjunto utilizado  Error de test (función de pérdida)  Accuracy  \\\n",
              "0  Conjunto Generado 1                            0.024357  0.993177   \n",
              "1  Conjunto Generado 2                            1.526816  0.899436   \n",
              "2  Conjunto Generado 3                            0.923319  0.883862   \n",
              "3  Conjunto Generado 4                            1.506544  0.866953   \n",
              "\n",
              "   F1-Score  Sensitivity  Métrica personalizada  \n",
              "0  0.992709     0.991694               0.992884  \n",
              "1  0.878473     0.898398               0.896136  \n",
              "2  0.868885     0.879858               0.881015  \n",
              "3  0.845595     0.863690               0.863260  "
            ],
            "text/html": [
              "\n",
              "  <div id=\"df-35196786-be81-4bbf-9f87-9607d4109190\" class=\"colab-df-container\">\n",
              "    <div>\n",
              "<style scoped>\n",
              "    .dataframe tbody tr th:only-of-type {\n",
              "        vertical-align: middle;\n",
              "    }\n",
              "\n",
              "    .dataframe tbody tr th {\n",
              "        vertical-align: top;\n",
              "    }\n",
              "\n",
              "    .dataframe thead th {\n",
              "        text-align: right;\n",
              "    }\n",
              "</style>\n",
              "<table border=\"1\" class=\"dataframe\">\n",
              "  <thead>\n",
              "    <tr style=\"text-align: right;\">\n",
              "      <th></th>\n",
              "      <th>Conjunto utilizado</th>\n",
              "      <th>Error de test (función de pérdida)</th>\n",
              "      <th>Accuracy</th>\n",
              "      <th>F1-Score</th>\n",
              "      <th>Sensitivity</th>\n",
              "      <th>Métrica personalizada</th>\n",
              "    </tr>\n",
              "  </thead>\n",
              "  <tbody>\n",
              "    <tr>\n",
              "      <th>0</th>\n",
              "      <td>Conjunto Generado 1</td>\n",
              "      <td>0.024357</td>\n",
              "      <td>0.993177</td>\n",
              "      <td>0.992709</td>\n",
              "      <td>0.991694</td>\n",
              "      <td>0.992884</td>\n",
              "    </tr>\n",
              "    <tr>\n",
              "      <th>1</th>\n",
              "      <td>Conjunto Generado 2</td>\n",
              "      <td>1.526816</td>\n",
              "      <td>0.899436</td>\n",
              "      <td>0.878473</td>\n",
              "      <td>0.898398</td>\n",
              "      <td>0.896136</td>\n",
              "    </tr>\n",
              "    <tr>\n",
              "      <th>2</th>\n",
              "      <td>Conjunto Generado 3</td>\n",
              "      <td>0.923319</td>\n",
              "      <td>0.883862</td>\n",
              "      <td>0.868885</td>\n",
              "      <td>0.879858</td>\n",
              "      <td>0.881015</td>\n",
              "    </tr>\n",
              "    <tr>\n",
              "      <th>3</th>\n",
              "      <td>Conjunto Generado 4</td>\n",
              "      <td>1.506544</td>\n",
              "      <td>0.866953</td>\n",
              "      <td>0.845595</td>\n",
              "      <td>0.863690</td>\n",
              "      <td>0.863260</td>\n",
              "    </tr>\n",
              "  </tbody>\n",
              "</table>\n",
              "</div>\n",
              "    <div class=\"colab-df-buttons\">\n",
              "\n",
              "  <div class=\"colab-df-container\">\n",
              "    <button class=\"colab-df-convert\" onclick=\"convertToInteractive('df-35196786-be81-4bbf-9f87-9607d4109190')\"\n",
              "            title=\"Convert this dataframe to an interactive table.\"\n",
              "            style=\"display:none;\">\n",
              "\n",
              "  <svg xmlns=\"http://www.w3.org/2000/svg\" height=\"24px\" viewBox=\"0 -960 960 960\">\n",
              "    <path d=\"M120-120v-720h720v720H120Zm60-500h600v-160H180v160Zm220 220h160v-160H400v160Zm0 220h160v-160H400v160ZM180-400h160v-160H180v160Zm440 0h160v-160H620v160ZM180-180h160v-160H180v160Zm440 0h160v-160H620v160Z\"/>\n",
              "  </svg>\n",
              "    </button>\n",
              "\n",
              "  <style>\n",
              "    .colab-df-container {\n",
              "      display:flex;\n",
              "      gap: 12px;\n",
              "    }\n",
              "\n",
              "    .colab-df-convert {\n",
              "      background-color: #E8F0FE;\n",
              "      border: none;\n",
              "      border-radius: 50%;\n",
              "      cursor: pointer;\n",
              "      display: none;\n",
              "      fill: #1967D2;\n",
              "      height: 32px;\n",
              "      padding: 0 0 0 0;\n",
              "      width: 32px;\n",
              "    }\n",
              "\n",
              "    .colab-df-convert:hover {\n",
              "      background-color: #E2EBFA;\n",
              "      box-shadow: 0px 1px 2px rgba(60, 64, 67, 0.3), 0px 1px 3px 1px rgba(60, 64, 67, 0.15);\n",
              "      fill: #174EA6;\n",
              "    }\n",
              "\n",
              "    .colab-df-buttons div {\n",
              "      margin-bottom: 4px;\n",
              "    }\n",
              "\n",
              "    [theme=dark] .colab-df-convert {\n",
              "      background-color: #3B4455;\n",
              "      fill: #D2E3FC;\n",
              "    }\n",
              "\n",
              "    [theme=dark] .colab-df-convert:hover {\n",
              "      background-color: #434B5C;\n",
              "      box-shadow: 0px 1px 3px 1px rgba(0, 0, 0, 0.15);\n",
              "      filter: drop-shadow(0px 1px 2px rgba(0, 0, 0, 0.3));\n",
              "      fill: #FFFFFF;\n",
              "    }\n",
              "  </style>\n",
              "\n",
              "    <script>\n",
              "      const buttonEl =\n",
              "        document.querySelector('#df-35196786-be81-4bbf-9f87-9607d4109190 button.colab-df-convert');\n",
              "      buttonEl.style.display =\n",
              "        google.colab.kernel.accessAllowed ? 'block' : 'none';\n",
              "\n",
              "      async function convertToInteractive(key) {\n",
              "        const element = document.querySelector('#df-35196786-be81-4bbf-9f87-9607d4109190');\n",
              "        const dataTable =\n",
              "          await google.colab.kernel.invokeFunction('convertToInteractive',\n",
              "                                                    [key], {});\n",
              "        if (!dataTable) return;\n",
              "\n",
              "        const docLinkHtml = 'Like what you see? Visit the ' +\n",
              "          '<a target=\"_blank\" href=https://colab.research.google.com/notebooks/data_table.ipynb>data table notebook</a>'\n",
              "          + ' to learn more about interactive tables.';\n",
              "        element.innerHTML = '';\n",
              "        dataTable['output_type'] = 'display_data';\n",
              "        await google.colab.output.renderOutput(dataTable, element);\n",
              "        const docLink = document.createElement('div');\n",
              "        docLink.innerHTML = docLinkHtml;\n",
              "        element.appendChild(docLink);\n",
              "      }\n",
              "    </script>\n",
              "  </div>\n",
              "\n",
              "\n",
              "<div id=\"df-93292642-e0f7-4252-8312-2792698cc00b\">\n",
              "  <button class=\"colab-df-quickchart\" onclick=\"quickchart('df-93292642-e0f7-4252-8312-2792698cc00b')\"\n",
              "            title=\"Suggest charts.\"\n",
              "            style=\"display:none;\">\n",
              "\n",
              "<svg xmlns=\"http://www.w3.org/2000/svg\" height=\"24px\"viewBox=\"0 0 24 24\"\n",
              "     width=\"24px\">\n",
              "    <g>\n",
              "        <path d=\"M19 3H5c-1.1 0-2 .9-2 2v14c0 1.1.9 2 2 2h14c1.1 0 2-.9 2-2V5c0-1.1-.9-2-2-2zM9 17H7v-7h2v7zm4 0h-2V7h2v10zm4 0h-2v-4h2v4z\"/>\n",
              "    </g>\n",
              "</svg>\n",
              "  </button>\n",
              "\n",
              "<style>\n",
              "  .colab-df-quickchart {\n",
              "      --bg-color: #E8F0FE;\n",
              "      --fill-color: #1967D2;\n",
              "      --hover-bg-color: #E2EBFA;\n",
              "      --hover-fill-color: #174EA6;\n",
              "      --disabled-fill-color: #AAA;\n",
              "      --disabled-bg-color: #DDD;\n",
              "  }\n",
              "\n",
              "  [theme=dark] .colab-df-quickchart {\n",
              "      --bg-color: #3B4455;\n",
              "      --fill-color: #D2E3FC;\n",
              "      --hover-bg-color: #434B5C;\n",
              "      --hover-fill-color: #FFFFFF;\n",
              "      --disabled-bg-color: #3B4455;\n",
              "      --disabled-fill-color: #666;\n",
              "  }\n",
              "\n",
              "  .colab-df-quickchart {\n",
              "    background-color: var(--bg-color);\n",
              "    border: none;\n",
              "    border-radius: 50%;\n",
              "    cursor: pointer;\n",
              "    display: none;\n",
              "    fill: var(--fill-color);\n",
              "    height: 32px;\n",
              "    padding: 0;\n",
              "    width: 32px;\n",
              "  }\n",
              "\n",
              "  .colab-df-quickchart:hover {\n",
              "    background-color: var(--hover-bg-color);\n",
              "    box-shadow: 0 1px 2px rgba(60, 64, 67, 0.3), 0 1px 3px 1px rgba(60, 64, 67, 0.15);\n",
              "    fill: var(--button-hover-fill-color);\n",
              "  }\n",
              "\n",
              "  .colab-df-quickchart-complete:disabled,\n",
              "  .colab-df-quickchart-complete:disabled:hover {\n",
              "    background-color: var(--disabled-bg-color);\n",
              "    fill: var(--disabled-fill-color);\n",
              "    box-shadow: none;\n",
              "  }\n",
              "\n",
              "  .colab-df-spinner {\n",
              "    border: 2px solid var(--fill-color);\n",
              "    border-color: transparent;\n",
              "    border-bottom-color: var(--fill-color);\n",
              "    animation:\n",
              "      spin 1s steps(1) infinite;\n",
              "  }\n",
              "\n",
              "  @keyframes spin {\n",
              "    0% {\n",
              "      border-color: transparent;\n",
              "      border-bottom-color: var(--fill-color);\n",
              "      border-left-color: var(--fill-color);\n",
              "    }\n",
              "    20% {\n",
              "      border-color: transparent;\n",
              "      border-left-color: var(--fill-color);\n",
              "      border-top-color: var(--fill-color);\n",
              "    }\n",
              "    30% {\n",
              "      border-color: transparent;\n",
              "      border-left-color: var(--fill-color);\n",
              "      border-top-color: var(--fill-color);\n",
              "      border-right-color: var(--fill-color);\n",
              "    }\n",
              "    40% {\n",
              "      border-color: transparent;\n",
              "      border-right-color: var(--fill-color);\n",
              "      border-top-color: var(--fill-color);\n",
              "    }\n",
              "    60% {\n",
              "      border-color: transparent;\n",
              "      border-right-color: var(--fill-color);\n",
              "    }\n",
              "    80% {\n",
              "      border-color: transparent;\n",
              "      border-right-color: var(--fill-color);\n",
              "      border-bottom-color: var(--fill-color);\n",
              "    }\n",
              "    90% {\n",
              "      border-color: transparent;\n",
              "      border-bottom-color: var(--fill-color);\n",
              "    }\n",
              "  }\n",
              "</style>\n",
              "\n",
              "  <script>\n",
              "    async function quickchart(key) {\n",
              "      const quickchartButtonEl =\n",
              "        document.querySelector('#' + key + ' button');\n",
              "      quickchartButtonEl.disabled = true;  // To prevent multiple clicks.\n",
              "      quickchartButtonEl.classList.add('colab-df-spinner');\n",
              "      try {\n",
              "        const charts = await google.colab.kernel.invokeFunction(\n",
              "            'suggestCharts', [key], {});\n",
              "      } catch (error) {\n",
              "        console.error('Error during call to suggestCharts:', error);\n",
              "      }\n",
              "      quickchartButtonEl.classList.remove('colab-df-spinner');\n",
              "      quickchartButtonEl.classList.add('colab-df-quickchart-complete');\n",
              "    }\n",
              "    (() => {\n",
              "      let quickchartButtonEl =\n",
              "        document.querySelector('#df-93292642-e0f7-4252-8312-2792698cc00b button');\n",
              "      quickchartButtonEl.style.display =\n",
              "        google.colab.kernel.accessAllowed ? 'block' : 'none';\n",
              "    })();\n",
              "  </script>\n",
              "</div>\n",
              "    </div>\n",
              "  </div>\n"
            ]
          },
          "metadata": {}
        }
      ]
    },
    {
      "cell_type": "code",
      "source": [
        "#Crear DataFrame y mostrarlo\n",
        "tableFrame = pd.DataFrame({'Conjunto utilizado': modeloTabla,'Error de test (función de pérdida)':funcionPerdidaTabla,\n",
        "                           'Accuracy':accuracyTabla,'F1-Score':f1Tabla,'Sensitivity':sensitivityTabla, 'Métrica personalizada':customScoreTabla})\n",
        "display(tableFrame)"
      ],
      "metadata": {
        "colab": {
          "base_uri": "https://localhost:8080/",
          "height": 175
        },
        "outputId": "119cfa9a-03ff-4115-bdc9-cf1011578c5f",
        "id": "uOJ1TQokqEbN"
      },
      "execution_count": null,
      "outputs": [
        {
          "output_type": "display_data",
          "data": {
            "text/plain": [
              "    Conjunto utilizado  Error de test (función de pérdida)  Accuracy  \\\n",
              "0  Conjunto Generado 1                            0.024357  0.993177   \n",
              "1  Conjunto Generado 2                            1.526816  0.899436   \n",
              "2  Conjunto Generado 3                            0.923319  0.883862   \n",
              "3  Conjunto Generado 4                            1.506544  0.866953   \n",
              "\n",
              "   F1-Score  Sensitivity  Métrica personalizada  \n",
              "0  0.992709     0.991694               0.992884  \n",
              "1  0.878473     0.898398               0.896136  \n",
              "2  0.868885     0.879858               0.881015  \n",
              "3  0.845595     0.863690               0.863260  "
            ],
            "text/html": [
              "\n",
              "  <div id=\"df-35196786-be81-4bbf-9f87-9607d4109190\" class=\"colab-df-container\">\n",
              "    <div>\n",
              "<style scoped>\n",
              "    .dataframe tbody tr th:only-of-type {\n",
              "        vertical-align: middle;\n",
              "    }\n",
              "\n",
              "    .dataframe tbody tr th {\n",
              "        vertical-align: top;\n",
              "    }\n",
              "\n",
              "    .dataframe thead th {\n",
              "        text-align: right;\n",
              "    }\n",
              "</style>\n",
              "<table border=\"1\" class=\"dataframe\">\n",
              "  <thead>\n",
              "    <tr style=\"text-align: right;\">\n",
              "      <th></th>\n",
              "      <th>Conjunto utilizado</th>\n",
              "      <th>Error de test (función de pérdida)</th>\n",
              "      <th>Accuracy</th>\n",
              "      <th>F1-Score</th>\n",
              "      <th>Sensitivity</th>\n",
              "      <th>Métrica personalizada</th>\n",
              "    </tr>\n",
              "  </thead>\n",
              "  <tbody>\n",
              "    <tr>\n",
              "      <th>0</th>\n",
              "      <td>Conjunto Generado 1</td>\n",
              "      <td>0.024357</td>\n",
              "      <td>0.993177</td>\n",
              "      <td>0.992709</td>\n",
              "      <td>0.991694</td>\n",
              "      <td>0.992884</td>\n",
              "    </tr>\n",
              "    <tr>\n",
              "      <th>1</th>\n",
              "      <td>Conjunto Generado 2</td>\n",
              "      <td>1.526816</td>\n",
              "      <td>0.899436</td>\n",
              "      <td>0.878473</td>\n",
              "      <td>0.898398</td>\n",
              "      <td>0.896136</td>\n",
              "    </tr>\n",
              "    <tr>\n",
              "      <th>2</th>\n",
              "      <td>Conjunto Generado 3</td>\n",
              "      <td>0.923319</td>\n",
              "      <td>0.883862</td>\n",
              "      <td>0.868885</td>\n",
              "      <td>0.879858</td>\n",
              "      <td>0.881015</td>\n",
              "    </tr>\n",
              "    <tr>\n",
              "      <th>3</th>\n",
              "      <td>Conjunto Generado 4</td>\n",
              "      <td>1.506544</td>\n",
              "      <td>0.866953</td>\n",
              "      <td>0.845595</td>\n",
              "      <td>0.863690</td>\n",
              "      <td>0.863260</td>\n",
              "    </tr>\n",
              "  </tbody>\n",
              "</table>\n",
              "</div>\n",
              "    <div class=\"colab-df-buttons\">\n",
              "\n",
              "  <div class=\"colab-df-container\">\n",
              "    <button class=\"colab-df-convert\" onclick=\"convertToInteractive('df-35196786-be81-4bbf-9f87-9607d4109190')\"\n",
              "            title=\"Convert this dataframe to an interactive table.\"\n",
              "            style=\"display:none;\">\n",
              "\n",
              "  <svg xmlns=\"http://www.w3.org/2000/svg\" height=\"24px\" viewBox=\"0 -960 960 960\">\n",
              "    <path d=\"M120-120v-720h720v720H120Zm60-500h600v-160H180v160Zm220 220h160v-160H400v160Zm0 220h160v-160H400v160ZM180-400h160v-160H180v160Zm440 0h160v-160H620v160ZM180-180h160v-160H180v160Zm440 0h160v-160H620v160Z\"/>\n",
              "  </svg>\n",
              "    </button>\n",
              "\n",
              "  <style>\n",
              "    .colab-df-container {\n",
              "      display:flex;\n",
              "      gap: 12px;\n",
              "    }\n",
              "\n",
              "    .colab-df-convert {\n",
              "      background-color: #E8F0FE;\n",
              "      border: none;\n",
              "      border-radius: 50%;\n",
              "      cursor: pointer;\n",
              "      display: none;\n",
              "      fill: #1967D2;\n",
              "      height: 32px;\n",
              "      padding: 0 0 0 0;\n",
              "      width: 32px;\n",
              "    }\n",
              "\n",
              "    .colab-df-convert:hover {\n",
              "      background-color: #E2EBFA;\n",
              "      box-shadow: 0px 1px 2px rgba(60, 64, 67, 0.3), 0px 1px 3px 1px rgba(60, 64, 67, 0.15);\n",
              "      fill: #174EA6;\n",
              "    }\n",
              "\n",
              "    .colab-df-buttons div {\n",
              "      margin-bottom: 4px;\n",
              "    }\n",
              "\n",
              "    [theme=dark] .colab-df-convert {\n",
              "      background-color: #3B4455;\n",
              "      fill: #D2E3FC;\n",
              "    }\n",
              "\n",
              "    [theme=dark] .colab-df-convert:hover {\n",
              "      background-color: #434B5C;\n",
              "      box-shadow: 0px 1px 3px 1px rgba(0, 0, 0, 0.15);\n",
              "      filter: drop-shadow(0px 1px 2px rgba(0, 0, 0, 0.3));\n",
              "      fill: #FFFFFF;\n",
              "    }\n",
              "  </style>\n",
              "\n",
              "    <script>\n",
              "      const buttonEl =\n",
              "        document.querySelector('#df-35196786-be81-4bbf-9f87-9607d4109190 button.colab-df-convert');\n",
              "      buttonEl.style.display =\n",
              "        google.colab.kernel.accessAllowed ? 'block' : 'none';\n",
              "\n",
              "      async function convertToInteractive(key) {\n",
              "        const element = document.querySelector('#df-35196786-be81-4bbf-9f87-9607d4109190');\n",
              "        const dataTable =\n",
              "          await google.colab.kernel.invokeFunction('convertToInteractive',\n",
              "                                                    [key], {});\n",
              "        if (!dataTable) return;\n",
              "\n",
              "        const docLinkHtml = 'Like what you see? Visit the ' +\n",
              "          '<a target=\"_blank\" href=https://colab.research.google.com/notebooks/data_table.ipynb>data table notebook</a>'\n",
              "          + ' to learn more about interactive tables.';\n",
              "        element.innerHTML = '';\n",
              "        dataTable['output_type'] = 'display_data';\n",
              "        await google.colab.output.renderOutput(dataTable, element);\n",
              "        const docLink = document.createElement('div');\n",
              "        docLink.innerHTML = docLinkHtml;\n",
              "        element.appendChild(docLink);\n",
              "      }\n",
              "    </script>\n",
              "  </div>\n",
              "\n",
              "\n",
              "<div id=\"df-93292642-e0f7-4252-8312-2792698cc00b\">\n",
              "  <button class=\"colab-df-quickchart\" onclick=\"quickchart('df-93292642-e0f7-4252-8312-2792698cc00b')\"\n",
              "            title=\"Suggest charts.\"\n",
              "            style=\"display:none;\">\n",
              "\n",
              "<svg xmlns=\"http://www.w3.org/2000/svg\" height=\"24px\"viewBox=\"0 0 24 24\"\n",
              "     width=\"24px\">\n",
              "    <g>\n",
              "        <path d=\"M19 3H5c-1.1 0-2 .9-2 2v14c0 1.1.9 2 2 2h14c1.1 0 2-.9 2-2V5c0-1.1-.9-2-2-2zM9 17H7v-7h2v7zm4 0h-2V7h2v10zm4 0h-2v-4h2v4z\"/>\n",
              "    </g>\n",
              "</svg>\n",
              "  </button>\n",
              "\n",
              "<style>\n",
              "  .colab-df-quickchart {\n",
              "      --bg-color: #E8F0FE;\n",
              "      --fill-color: #1967D2;\n",
              "      --hover-bg-color: #E2EBFA;\n",
              "      --hover-fill-color: #174EA6;\n",
              "      --disabled-fill-color: #AAA;\n",
              "      --disabled-bg-color: #DDD;\n",
              "  }\n",
              "\n",
              "  [theme=dark] .colab-df-quickchart {\n",
              "      --bg-color: #3B4455;\n",
              "      --fill-color: #D2E3FC;\n",
              "      --hover-bg-color: #434B5C;\n",
              "      --hover-fill-color: #FFFFFF;\n",
              "      --disabled-bg-color: #3B4455;\n",
              "      --disabled-fill-color: #666;\n",
              "  }\n",
              "\n",
              "  .colab-df-quickchart {\n",
              "    background-color: var(--bg-color);\n",
              "    border: none;\n",
              "    border-radius: 50%;\n",
              "    cursor: pointer;\n",
              "    display: none;\n",
              "    fill: var(--fill-color);\n",
              "    height: 32px;\n",
              "    padding: 0;\n",
              "    width: 32px;\n",
              "  }\n",
              "\n",
              "  .colab-df-quickchart:hover {\n",
              "    background-color: var(--hover-bg-color);\n",
              "    box-shadow: 0 1px 2px rgba(60, 64, 67, 0.3), 0 1px 3px 1px rgba(60, 64, 67, 0.15);\n",
              "    fill: var(--button-hover-fill-color);\n",
              "  }\n",
              "\n",
              "  .colab-df-quickchart-complete:disabled,\n",
              "  .colab-df-quickchart-complete:disabled:hover {\n",
              "    background-color: var(--disabled-bg-color);\n",
              "    fill: var(--disabled-fill-color);\n",
              "    box-shadow: none;\n",
              "  }\n",
              "\n",
              "  .colab-df-spinner {\n",
              "    border: 2px solid var(--fill-color);\n",
              "    border-color: transparent;\n",
              "    border-bottom-color: var(--fill-color);\n",
              "    animation:\n",
              "      spin 1s steps(1) infinite;\n",
              "  }\n",
              "\n",
              "  @keyframes spin {\n",
              "    0% {\n",
              "      border-color: transparent;\n",
              "      border-bottom-color: var(--fill-color);\n",
              "      border-left-color: var(--fill-color);\n",
              "    }\n",
              "    20% {\n",
              "      border-color: transparent;\n",
              "      border-left-color: var(--fill-color);\n",
              "      border-top-color: var(--fill-color);\n",
              "    }\n",
              "    30% {\n",
              "      border-color: transparent;\n",
              "      border-left-color: var(--fill-color);\n",
              "      border-top-color: var(--fill-color);\n",
              "      border-right-color: var(--fill-color);\n",
              "    }\n",
              "    40% {\n",
              "      border-color: transparent;\n",
              "      border-right-color: var(--fill-color);\n",
              "      border-top-color: var(--fill-color);\n",
              "    }\n",
              "    60% {\n",
              "      border-color: transparent;\n",
              "      border-right-color: var(--fill-color);\n",
              "    }\n",
              "    80% {\n",
              "      border-color: transparent;\n",
              "      border-right-color: var(--fill-color);\n",
              "      border-bottom-color: var(--fill-color);\n",
              "    }\n",
              "    90% {\n",
              "      border-color: transparent;\n",
              "      border-bottom-color: var(--fill-color);\n",
              "    }\n",
              "  }\n",
              "</style>\n",
              "\n",
              "  <script>\n",
              "    async function quickchart(key) {\n",
              "      const quickchartButtonEl =\n",
              "        document.querySelector('#' + key + ' button');\n",
              "      quickchartButtonEl.disabled = true;  // To prevent multiple clicks.\n",
              "      quickchartButtonEl.classList.add('colab-df-spinner');\n",
              "      try {\n",
              "        const charts = await google.colab.kernel.invokeFunction(\n",
              "            'suggestCharts', [key], {});\n",
              "      } catch (error) {\n",
              "        console.error('Error during call to suggestCharts:', error);\n",
              "      }\n",
              "      quickchartButtonEl.classList.remove('colab-df-spinner');\n",
              "      quickchartButtonEl.classList.add('colab-df-quickchart-complete');\n",
              "    }\n",
              "    (() => {\n",
              "      let quickchartButtonEl =\n",
              "        document.querySelector('#df-93292642-e0f7-4252-8312-2792698cc00b button');\n",
              "      quickchartButtonEl.style.display =\n",
              "        google.colab.kernel.accessAllowed ? 'block' : 'none';\n",
              "    })();\n",
              "  </script>\n",
              "</div>\n",
              "    </div>\n",
              "  </div>\n"
            ]
          },
          "metadata": {}
        }
      ]
    },
    {
      "cell_type": "markdown",
      "source": [
        "Creamos y compilamos el modelo:"
      ],
      "metadata": {
        "id": "b_tbDtGMkam5"
      }
    },
    {
      "cell_type": "code",
      "source": [
        "modeloCNN1 = Sequential()\n",
        "modeloCNN1.add(Conv2D(conv_neurons[0], conv_window[0], activation='relu', input_shape=input_shape))\n",
        "modeloCNN1.add(MaxPooling2D(num_maxPooling[0]))\n",
        "modeloCNN1.add(Conv2D(conv_neurons[1], conv_window[1], activation='relu'))\n",
        "modeloCNN1.add(MaxPooling2D(num_maxPooling[1]))\n",
        "modeloCNN1.add(Conv2D(conv_neurons[2], conv_window[2], activation='relu'))\n",
        "modeloCNN1.add(MaxPooling2D(num_maxPooling[2]))\n",
        "modeloCNN1.add(Flatten())\n",
        "modeloCNN1.add(Dense(dense_neurons, activation='relu'))\n",
        "modeloCNN1.add(Dense(num_classes, activation='softmax'))\n",
        "modeloCNN1.compile(\n",
        "    optimizer='adam',\n",
        "    loss='categorical_crossentropy',\n",
        "    metrics=[\n",
        "        tf.keras.metrics.CategoricalAccuracy(),\n",
        "        tf.keras.metrics.F1Score(),\n",
        "        CustomSensitivity(),\n",
        "        CustomScoreMetric()\n",
        "    ],\n",
        ")"
      ],
      "metadata": {
        "id": "2h5_IjyajWTE"
      },
      "execution_count": null,
      "outputs": []
    },
    {
      "cell_type": "markdown",
      "source": [
        "Entrenamos y evaluamos el modelo:"
      ],
      "metadata": {
        "id": "E5AOQVLNkdjF"
      }
    }
  ],
  "metadata": {
    "colab": {
      "collapsed_sections": [
        "B03NMmxBS0jv",
        "hvz-WR0WUTR1"
      ],
      "provenance": []
    },
    "kernelspec": {
      "display_name": "Python 3",
      "name": "python3"
    },
    "language_info": {
      "name": "python"
    }
  },
  "nbformat": 4,
  "nbformat_minor": 0
}